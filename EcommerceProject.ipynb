{
 "cells": [
  {
   "cell_type": "code",
   "execution_count": 1,
   "id": "f47dacc3-bc0c-4af4-9168-fe3ccd7447f9",
   "metadata": {},
   "outputs": [],
   "source": [
    "import pandas as pd\n",
    "import datetime as dt"
   ]
  },
  {
   "cell_type": "code",
   "execution_count": 2,
   "id": "6815f4f4-1b77-4d20-b1bc-e854b28da185",
   "metadata": {},
   "outputs": [],
   "source": [
    "data = pd.read_csv('data.csv' , encoding='ISO-8859-1' , index_col = 'InvoiceNo')"
   ]
  },
  {
   "cell_type": "code",
   "execution_count": 3,
   "id": "547761cd-8c56-4083-8959-4712998005bd",
   "metadata": {},
   "outputs": [
    {
     "data": {
      "text/html": [
       "<div>\n",
       "<style scoped>\n",
       "    .dataframe tbody tr th:only-of-type {\n",
       "        vertical-align: middle;\n",
       "    }\n",
       "\n",
       "    .dataframe tbody tr th {\n",
       "        vertical-align: top;\n",
       "    }\n",
       "\n",
       "    .dataframe thead th {\n",
       "        text-align: right;\n",
       "    }\n",
       "</style>\n",
       "<table border=\"1\" class=\"dataframe\">\n",
       "  <thead>\n",
       "    <tr style=\"text-align: right;\">\n",
       "      <th></th>\n",
       "      <th>StockCode</th>\n",
       "      <th>Description</th>\n",
       "      <th>Quantity</th>\n",
       "      <th>InvoiceDate</th>\n",
       "      <th>UnitPrice</th>\n",
       "      <th>CustomerID</th>\n",
       "      <th>Country</th>\n",
       "    </tr>\n",
       "    <tr>\n",
       "      <th>InvoiceNo</th>\n",
       "      <th></th>\n",
       "      <th></th>\n",
       "      <th></th>\n",
       "      <th></th>\n",
       "      <th></th>\n",
       "      <th></th>\n",
       "      <th></th>\n",
       "    </tr>\n",
       "  </thead>\n",
       "  <tbody>\n",
       "    <tr>\n",
       "      <th>536365</th>\n",
       "      <td>85123A</td>\n",
       "      <td>WHITE HANGING HEART T-LIGHT HOLDER</td>\n",
       "      <td>6</td>\n",
       "      <td>12/1/2010 8:26</td>\n",
       "      <td>2.55</td>\n",
       "      <td>17850.0</td>\n",
       "      <td>United Kingdom</td>\n",
       "    </tr>\n",
       "    <tr>\n",
       "      <th>536365</th>\n",
       "      <td>71053</td>\n",
       "      <td>WHITE METAL LANTERN</td>\n",
       "      <td>6</td>\n",
       "      <td>12/1/2010 8:26</td>\n",
       "      <td>3.39</td>\n",
       "      <td>17850.0</td>\n",
       "      <td>United Kingdom</td>\n",
       "    </tr>\n",
       "    <tr>\n",
       "      <th>536365</th>\n",
       "      <td>84406B</td>\n",
       "      <td>CREAM CUPID HEARTS COAT HANGER</td>\n",
       "      <td>8</td>\n",
       "      <td>12/1/2010 8:26</td>\n",
       "      <td>2.75</td>\n",
       "      <td>17850.0</td>\n",
       "      <td>United Kingdom</td>\n",
       "    </tr>\n",
       "    <tr>\n",
       "      <th>536365</th>\n",
       "      <td>84029G</td>\n",
       "      <td>KNITTED UNION FLAG HOT WATER BOTTLE</td>\n",
       "      <td>6</td>\n",
       "      <td>12/1/2010 8:26</td>\n",
       "      <td>3.39</td>\n",
       "      <td>17850.0</td>\n",
       "      <td>United Kingdom</td>\n",
       "    </tr>\n",
       "    <tr>\n",
       "      <th>536365</th>\n",
       "      <td>84029E</td>\n",
       "      <td>RED WOOLLY HOTTIE WHITE HEART.</td>\n",
       "      <td>6</td>\n",
       "      <td>12/1/2010 8:26</td>\n",
       "      <td>3.39</td>\n",
       "      <td>17850.0</td>\n",
       "      <td>United Kingdom</td>\n",
       "    </tr>\n",
       "    <tr>\n",
       "      <th>...</th>\n",
       "      <td>...</td>\n",
       "      <td>...</td>\n",
       "      <td>...</td>\n",
       "      <td>...</td>\n",
       "      <td>...</td>\n",
       "      <td>...</td>\n",
       "      <td>...</td>\n",
       "    </tr>\n",
       "    <tr>\n",
       "      <th>581587</th>\n",
       "      <td>22613</td>\n",
       "      <td>PACK OF 20 SPACEBOY NAPKINS</td>\n",
       "      <td>12</td>\n",
       "      <td>12/9/2011 12:50</td>\n",
       "      <td>0.85</td>\n",
       "      <td>12680.0</td>\n",
       "      <td>France</td>\n",
       "    </tr>\n",
       "    <tr>\n",
       "      <th>581587</th>\n",
       "      <td>22899</td>\n",
       "      <td>CHILDREN'S APRON DOLLY GIRL</td>\n",
       "      <td>6</td>\n",
       "      <td>12/9/2011 12:50</td>\n",
       "      <td>2.10</td>\n",
       "      <td>12680.0</td>\n",
       "      <td>France</td>\n",
       "    </tr>\n",
       "    <tr>\n",
       "      <th>581587</th>\n",
       "      <td>23254</td>\n",
       "      <td>CHILDRENS CUTLERY DOLLY GIRL</td>\n",
       "      <td>4</td>\n",
       "      <td>12/9/2011 12:50</td>\n",
       "      <td>4.15</td>\n",
       "      <td>12680.0</td>\n",
       "      <td>France</td>\n",
       "    </tr>\n",
       "    <tr>\n",
       "      <th>581587</th>\n",
       "      <td>23255</td>\n",
       "      <td>CHILDRENS CUTLERY CIRCUS PARADE</td>\n",
       "      <td>4</td>\n",
       "      <td>12/9/2011 12:50</td>\n",
       "      <td>4.15</td>\n",
       "      <td>12680.0</td>\n",
       "      <td>France</td>\n",
       "    </tr>\n",
       "    <tr>\n",
       "      <th>581587</th>\n",
       "      <td>22138</td>\n",
       "      <td>BAKING SET 9 PIECE RETROSPOT</td>\n",
       "      <td>3</td>\n",
       "      <td>12/9/2011 12:50</td>\n",
       "      <td>4.95</td>\n",
       "      <td>12680.0</td>\n",
       "      <td>France</td>\n",
       "    </tr>\n",
       "  </tbody>\n",
       "</table>\n",
       "<p>541909 rows × 7 columns</p>\n",
       "</div>"
      ],
      "text/plain": [
       "          StockCode                          Description  Quantity  \\\n",
       "InvoiceNo                                                            \n",
       "536365       85123A   WHITE HANGING HEART T-LIGHT HOLDER         6   \n",
       "536365        71053                  WHITE METAL LANTERN         6   \n",
       "536365       84406B       CREAM CUPID HEARTS COAT HANGER         8   \n",
       "536365       84029G  KNITTED UNION FLAG HOT WATER BOTTLE         6   \n",
       "536365       84029E       RED WOOLLY HOTTIE WHITE HEART.         6   \n",
       "...             ...                                  ...       ...   \n",
       "581587        22613          PACK OF 20 SPACEBOY NAPKINS        12   \n",
       "581587        22899         CHILDREN'S APRON DOLLY GIRL          6   \n",
       "581587        23254        CHILDRENS CUTLERY DOLLY GIRL          4   \n",
       "581587        23255      CHILDRENS CUTLERY CIRCUS PARADE         4   \n",
       "581587        22138        BAKING SET 9 PIECE RETROSPOT          3   \n",
       "\n",
       "               InvoiceDate  UnitPrice  CustomerID         Country  \n",
       "InvoiceNo                                                          \n",
       "536365      12/1/2010 8:26       2.55     17850.0  United Kingdom  \n",
       "536365      12/1/2010 8:26       3.39     17850.0  United Kingdom  \n",
       "536365      12/1/2010 8:26       2.75     17850.0  United Kingdom  \n",
       "536365      12/1/2010 8:26       3.39     17850.0  United Kingdom  \n",
       "536365      12/1/2010 8:26       3.39     17850.0  United Kingdom  \n",
       "...                    ...        ...         ...             ...  \n",
       "581587     12/9/2011 12:50       0.85     12680.0          France  \n",
       "581587     12/9/2011 12:50       2.10     12680.0          France  \n",
       "581587     12/9/2011 12:50       4.15     12680.0          France  \n",
       "581587     12/9/2011 12:50       4.15     12680.0          France  \n",
       "581587     12/9/2011 12:50       4.95     12680.0          France  \n",
       "\n",
       "[541909 rows x 7 columns]"
      ]
     },
     "execution_count": 3,
     "metadata": {},
     "output_type": "execute_result"
    }
   ],
   "source": [
    "data"
   ]
  },
  {
   "cell_type": "code",
   "execution_count": 4,
   "id": "1a4aee07-c587-4428-989b-5b78d45b7dfd",
   "metadata": {},
   "outputs": [
    {
     "data": {
      "text/html": [
       "<div>\n",
       "<style scoped>\n",
       "    .dataframe tbody tr th:only-of-type {\n",
       "        vertical-align: middle;\n",
       "    }\n",
       "\n",
       "    .dataframe tbody tr th {\n",
       "        vertical-align: top;\n",
       "    }\n",
       "\n",
       "    .dataframe thead th {\n",
       "        text-align: right;\n",
       "    }\n",
       "</style>\n",
       "<table border=\"1\" class=\"dataframe\">\n",
       "  <thead>\n",
       "    <tr style=\"text-align: right;\">\n",
       "      <th></th>\n",
       "      <th>StockCode</th>\n",
       "      <th>Description</th>\n",
       "      <th>Quantity</th>\n",
       "      <th>InvoiceDate</th>\n",
       "      <th>UnitPrice</th>\n",
       "      <th>CustomerID</th>\n",
       "      <th>Country</th>\n",
       "    </tr>\n",
       "    <tr>\n",
       "      <th>InvoiceNo</th>\n",
       "      <th></th>\n",
       "      <th></th>\n",
       "      <th></th>\n",
       "      <th></th>\n",
       "      <th></th>\n",
       "      <th></th>\n",
       "      <th></th>\n",
       "    </tr>\n",
       "  </thead>\n",
       "  <tbody>\n",
       "    <tr>\n",
       "      <th>536365</th>\n",
       "      <td>85123A</td>\n",
       "      <td>WHITE HANGING HEART T-LIGHT HOLDER</td>\n",
       "      <td>6</td>\n",
       "      <td>12/1/2010 8:26</td>\n",
       "      <td>2.55</td>\n",
       "      <td>17850.0</td>\n",
       "      <td>United Kingdom</td>\n",
       "    </tr>\n",
       "    <tr>\n",
       "      <th>536365</th>\n",
       "      <td>71053</td>\n",
       "      <td>WHITE METAL LANTERN</td>\n",
       "      <td>6</td>\n",
       "      <td>12/1/2010 8:26</td>\n",
       "      <td>3.39</td>\n",
       "      <td>17850.0</td>\n",
       "      <td>United Kingdom</td>\n",
       "    </tr>\n",
       "    <tr>\n",
       "      <th>536365</th>\n",
       "      <td>84406B</td>\n",
       "      <td>CREAM CUPID HEARTS COAT HANGER</td>\n",
       "      <td>8</td>\n",
       "      <td>12/1/2010 8:26</td>\n",
       "      <td>2.75</td>\n",
       "      <td>17850.0</td>\n",
       "      <td>United Kingdom</td>\n",
       "    </tr>\n",
       "    <tr>\n",
       "      <th>536365</th>\n",
       "      <td>84029G</td>\n",
       "      <td>KNITTED UNION FLAG HOT WATER BOTTLE</td>\n",
       "      <td>6</td>\n",
       "      <td>12/1/2010 8:26</td>\n",
       "      <td>3.39</td>\n",
       "      <td>17850.0</td>\n",
       "      <td>United Kingdom</td>\n",
       "    </tr>\n",
       "    <tr>\n",
       "      <th>536365</th>\n",
       "      <td>84029E</td>\n",
       "      <td>RED WOOLLY HOTTIE WHITE HEART.</td>\n",
       "      <td>6</td>\n",
       "      <td>12/1/2010 8:26</td>\n",
       "      <td>3.39</td>\n",
       "      <td>17850.0</td>\n",
       "      <td>United Kingdom</td>\n",
       "    </tr>\n",
       "    <tr>\n",
       "      <th>...</th>\n",
       "      <td>...</td>\n",
       "      <td>...</td>\n",
       "      <td>...</td>\n",
       "      <td>...</td>\n",
       "      <td>...</td>\n",
       "      <td>...</td>\n",
       "      <td>...</td>\n",
       "    </tr>\n",
       "    <tr>\n",
       "      <th>C581490</th>\n",
       "      <td>23144</td>\n",
       "      <td>ZINC T-LIGHT HOLDER STARS SMALL</td>\n",
       "      <td>-11</td>\n",
       "      <td>12/9/2011 9:57</td>\n",
       "      <td>0.83</td>\n",
       "      <td>14397.0</td>\n",
       "      <td>United Kingdom</td>\n",
       "    </tr>\n",
       "    <tr>\n",
       "      <th>C581499</th>\n",
       "      <td>M</td>\n",
       "      <td>Manual</td>\n",
       "      <td>-1</td>\n",
       "      <td>12/9/2011 10:28</td>\n",
       "      <td>224.69</td>\n",
       "      <td>15498.0</td>\n",
       "      <td>United Kingdom</td>\n",
       "    </tr>\n",
       "    <tr>\n",
       "      <th>C581568</th>\n",
       "      <td>21258</td>\n",
       "      <td>VICTORIAN SEWING BOX LARGE</td>\n",
       "      <td>-5</td>\n",
       "      <td>12/9/2011 11:57</td>\n",
       "      <td>10.95</td>\n",
       "      <td>15311.0</td>\n",
       "      <td>United Kingdom</td>\n",
       "    </tr>\n",
       "    <tr>\n",
       "      <th>C581569</th>\n",
       "      <td>84978</td>\n",
       "      <td>HANGING HEART JAR T-LIGHT HOLDER</td>\n",
       "      <td>-1</td>\n",
       "      <td>12/9/2011 11:58</td>\n",
       "      <td>1.25</td>\n",
       "      <td>17315.0</td>\n",
       "      <td>United Kingdom</td>\n",
       "    </tr>\n",
       "    <tr>\n",
       "      <th>C581569</th>\n",
       "      <td>20979</td>\n",
       "      <td>36 PENCILS TUBE RED RETROSPOT</td>\n",
       "      <td>-5</td>\n",
       "      <td>12/9/2011 11:58</td>\n",
       "      <td>1.25</td>\n",
       "      <td>17315.0</td>\n",
       "      <td>United Kingdom</td>\n",
       "    </tr>\n",
       "  </tbody>\n",
       "</table>\n",
       "<p>541909 rows × 7 columns</p>\n",
       "</div>"
      ],
      "text/plain": [
       "          StockCode                          Description  Quantity  \\\n",
       "InvoiceNo                                                            \n",
       "536365       85123A   WHITE HANGING HEART T-LIGHT HOLDER         6   \n",
       "536365        71053                  WHITE METAL LANTERN         6   \n",
       "536365       84406B       CREAM CUPID HEARTS COAT HANGER         8   \n",
       "536365       84029G  KNITTED UNION FLAG HOT WATER BOTTLE         6   \n",
       "536365       84029E       RED WOOLLY HOTTIE WHITE HEART.         6   \n",
       "...             ...                                  ...       ...   \n",
       "C581490       23144      ZINC T-LIGHT HOLDER STARS SMALL       -11   \n",
       "C581499           M                               Manual        -1   \n",
       "C581568       21258           VICTORIAN SEWING BOX LARGE        -5   \n",
       "C581569       84978     HANGING HEART JAR T-LIGHT HOLDER        -1   \n",
       "C581569       20979        36 PENCILS TUBE RED RETROSPOT        -5   \n",
       "\n",
       "               InvoiceDate  UnitPrice  CustomerID         Country  \n",
       "InvoiceNo                                                          \n",
       "536365      12/1/2010 8:26       2.55     17850.0  United Kingdom  \n",
       "536365      12/1/2010 8:26       3.39     17850.0  United Kingdom  \n",
       "536365      12/1/2010 8:26       2.75     17850.0  United Kingdom  \n",
       "536365      12/1/2010 8:26       3.39     17850.0  United Kingdom  \n",
       "536365      12/1/2010 8:26       3.39     17850.0  United Kingdom  \n",
       "...                    ...        ...         ...             ...  \n",
       "C581490     12/9/2011 9:57       0.83     14397.0  United Kingdom  \n",
       "C581499    12/9/2011 10:28     224.69     15498.0  United Kingdom  \n",
       "C581568    12/9/2011 11:57      10.95     15311.0  United Kingdom  \n",
       "C581569    12/9/2011 11:58       1.25     17315.0  United Kingdom  \n",
       "C581569    12/9/2011 11:58       1.25     17315.0  United Kingdom  \n",
       "\n",
       "[541909 rows x 7 columns]"
      ]
     },
     "execution_count": 4,
     "metadata": {},
     "output_type": "execute_result"
    }
   ],
   "source": [
    "data = data.sort_index()\n",
    "data"
   ]
  },
  {
   "cell_type": "code",
   "execution_count": 5,
   "id": "7fca074e-072a-4ac1-bc57-aec61b6434f4",
   "metadata": {},
   "outputs": [
    {
     "name": "stdout",
     "output_type": "stream",
     "text": [
      "<class 'pandas.core.frame.DataFrame'>\n",
      "Index: 541909 entries, 536365 to C581569\n",
      "Data columns (total 7 columns):\n",
      " #   Column       Non-Null Count   Dtype  \n",
      "---  ------       --------------   -----  \n",
      " 0   StockCode    541909 non-null  object \n",
      " 1   Description  540455 non-null  object \n",
      " 2   Quantity     541909 non-null  int64  \n",
      " 3   InvoiceDate  541909 non-null  object \n",
      " 4   UnitPrice    541909 non-null  float64\n",
      " 5   CustomerID   406829 non-null  float64\n",
      " 6   Country      541909 non-null  object \n",
      "dtypes: float64(2), int64(1), object(4)\n",
      "memory usage: 33.1+ MB\n"
     ]
    }
   ],
   "source": [
    "data.info()"
   ]
  },
  {
   "cell_type": "code",
   "execution_count": 108,
   "id": "fbe20d32-18bb-48d1-a84f-5486d3d77724",
   "metadata": {},
   "outputs": [],
   "source": [
    "data['CustomerID'] = data['CustomerID'].astype(int)"
   ]
  },
  {
   "cell_type": "code",
   "execution_count": 6,
   "id": "f10e03f7-30d6-4608-a88e-1e0faf76509c",
   "metadata": {
    "scrolled": true
   },
   "outputs": [
    {
     "data": {
      "text/html": [
       "<div>\n",
       "<style scoped>\n",
       "    .dataframe tbody tr th:only-of-type {\n",
       "        vertical-align: middle;\n",
       "    }\n",
       "\n",
       "    .dataframe tbody tr th {\n",
       "        vertical-align: top;\n",
       "    }\n",
       "\n",
       "    .dataframe thead th {\n",
       "        text-align: right;\n",
       "    }\n",
       "</style>\n",
       "<table border=\"1\" class=\"dataframe\">\n",
       "  <thead>\n",
       "    <tr style=\"text-align: right;\">\n",
       "      <th></th>\n",
       "      <th>StockCode</th>\n",
       "      <th>Description</th>\n",
       "      <th>Quantity</th>\n",
       "      <th>InvoiceDate</th>\n",
       "      <th>UnitPrice</th>\n",
       "      <th>CustomerID</th>\n",
       "      <th>Country</th>\n",
       "    </tr>\n",
       "    <tr>\n",
       "      <th>InvoiceNo</th>\n",
       "      <th></th>\n",
       "      <th></th>\n",
       "      <th></th>\n",
       "      <th></th>\n",
       "      <th></th>\n",
       "      <th></th>\n",
       "      <th></th>\n",
       "    </tr>\n",
       "  </thead>\n",
       "  <tbody>\n",
       "    <tr>\n",
       "      <th>536365</th>\n",
       "      <td>85123A</td>\n",
       "      <td>WHITE HANGING HEART T-LIGHT HOLDER</td>\n",
       "      <td>6</td>\n",
       "      <td>12/1/2010 8:26</td>\n",
       "      <td>2.55</td>\n",
       "      <td>17850.0</td>\n",
       "      <td>United Kingdom</td>\n",
       "    </tr>\n",
       "    <tr>\n",
       "      <th>536365</th>\n",
       "      <td>71053</td>\n",
       "      <td>WHITE METAL LANTERN</td>\n",
       "      <td>6</td>\n",
       "      <td>12/1/2010 8:26</td>\n",
       "      <td>3.39</td>\n",
       "      <td>17850.0</td>\n",
       "      <td>United Kingdom</td>\n",
       "    </tr>\n",
       "    <tr>\n",
       "      <th>536365</th>\n",
       "      <td>84406B</td>\n",
       "      <td>CREAM CUPID HEARTS COAT HANGER</td>\n",
       "      <td>8</td>\n",
       "      <td>12/1/2010 8:26</td>\n",
       "      <td>2.75</td>\n",
       "      <td>17850.0</td>\n",
       "      <td>United Kingdom</td>\n",
       "    </tr>\n",
       "    <tr>\n",
       "      <th>536365</th>\n",
       "      <td>84029G</td>\n",
       "      <td>KNITTED UNION FLAG HOT WATER BOTTLE</td>\n",
       "      <td>6</td>\n",
       "      <td>12/1/2010 8:26</td>\n",
       "      <td>3.39</td>\n",
       "      <td>17850.0</td>\n",
       "      <td>United Kingdom</td>\n",
       "    </tr>\n",
       "    <tr>\n",
       "      <th>536365</th>\n",
       "      <td>84029E</td>\n",
       "      <td>RED WOOLLY HOTTIE WHITE HEART.</td>\n",
       "      <td>6</td>\n",
       "      <td>12/1/2010 8:26</td>\n",
       "      <td>3.39</td>\n",
       "      <td>17850.0</td>\n",
       "      <td>United Kingdom</td>\n",
       "    </tr>\n",
       "  </tbody>\n",
       "</table>\n",
       "</div>"
      ],
      "text/plain": [
       "          StockCode                          Description  Quantity  \\\n",
       "InvoiceNo                                                            \n",
       "536365       85123A   WHITE HANGING HEART T-LIGHT HOLDER         6   \n",
       "536365        71053                  WHITE METAL LANTERN         6   \n",
       "536365       84406B       CREAM CUPID HEARTS COAT HANGER         8   \n",
       "536365       84029G  KNITTED UNION FLAG HOT WATER BOTTLE         6   \n",
       "536365       84029E       RED WOOLLY HOTTIE WHITE HEART.         6   \n",
       "\n",
       "              InvoiceDate  UnitPrice  CustomerID         Country  \n",
       "InvoiceNo                                                         \n",
       "536365     12/1/2010 8:26       2.55     17850.0  United Kingdom  \n",
       "536365     12/1/2010 8:26       3.39     17850.0  United Kingdom  \n",
       "536365     12/1/2010 8:26       2.75     17850.0  United Kingdom  \n",
       "536365     12/1/2010 8:26       3.39     17850.0  United Kingdom  \n",
       "536365     12/1/2010 8:26       3.39     17850.0  United Kingdom  "
      ]
     },
     "execution_count": 6,
     "metadata": {},
     "output_type": "execute_result"
    }
   ],
   "source": [
    "data.head()"
   ]
  },
  {
   "cell_type": "code",
   "execution_count": 7,
   "id": "1842daa0-698a-4268-ae4e-0029e68e4669",
   "metadata": {},
   "outputs": [],
   "source": [
    "data['InvoiceDate'] = pd.to_datetime(data['InvoiceDate'])"
   ]
  },
  {
   "cell_type": "code",
   "execution_count": 8,
   "id": "54442bce-fa2c-44c5-902b-992c137676d8",
   "metadata": {},
   "outputs": [],
   "source": [
    "data['Weekday'] = (data['InvoiceDate']).dt.day_name()"
   ]
  },
  {
   "cell_type": "code",
   "execution_count": 9,
   "id": "032cc696-c30e-4fba-bb10-13670880474e",
   "metadata": {},
   "outputs": [],
   "source": [
    "data['Invoice_Date'] = data['InvoiceDate'].dt.date     # Just the date\n",
    "data['Invoice_Time'] = data['InvoiceDate'].dt.time     # Just the time"
   ]
  },
  {
   "cell_type": "code",
   "execution_count": 21,
   "id": "adbf046b-fbfe-4b0e-b6a7-d2382a14f9d1",
   "metadata": {},
   "outputs": [
    {
     "name": "stderr",
     "output_type": "stream",
     "text": [
      "/var/folders/gz/6j4twhy16mxbtt7v_qsp_77r0000gn/T/ipykernel_67526/465588275.py:1: SettingWithCopyWarning: \n",
      "A value is trying to be set on a copy of a slice from a DataFrame.\n",
      "Try using .loc[row_indexer,col_indexer] = value instead\n",
      "\n",
      "See the caveats in the documentation: https://pandas.pydata.org/pandas-docs/stable/user_guide/indexing.html#returning-a-view-versus-a-copy\n",
      "  data['Revenue'] = data['Quantity'] * data['UnitPrice']\n"
     ]
    }
   ],
   "source": [
    "data['Revenue'] = data['Quantity'] * data['UnitPrice']"
   ]
  },
  {
   "cell_type": "code",
   "execution_count": 22,
   "id": "f2861da0-6871-4c8e-af9a-af09db219f6f",
   "metadata": {},
   "outputs": [],
   "source": [
    "data = data.dropna(subset=['CustomerID'])"
   ]
  },
  {
   "cell_type": "code",
   "execution_count": 23,
   "id": "6b7d669c-196b-442b-b1d2-7a7c207f659e",
   "metadata": {},
   "outputs": [
    {
     "data": {
      "text/plain": [
       "InvoiceNo\n",
       "536365     17850\n",
       "536365     17850\n",
       "536365     17850\n",
       "536365     17850\n",
       "536365     17850\n",
       "           ...  \n",
       "C581490    14397\n",
       "C581499    15498\n",
       "C581568    15311\n",
       "C581569    17315\n",
       "C581569    17315\n",
       "Name: CustomerID, Length: 406829, dtype: int64"
      ]
     },
     "execution_count": 23,
     "metadata": {},
     "output_type": "execute_result"
    }
   ],
   "source": [
    "data['CustomerID'].astype(int)"
   ]
  },
  {
   "cell_type": "code",
   "execution_count": 24,
   "id": "165f3cdf-5ede-40cd-89bd-a4bf36519bd8",
   "metadata": {},
   "outputs": [
    {
     "data": {
      "text/html": [
       "<div>\n",
       "<style scoped>\n",
       "    .dataframe tbody tr th:only-of-type {\n",
       "        vertical-align: middle;\n",
       "    }\n",
       "\n",
       "    .dataframe tbody tr th {\n",
       "        vertical-align: top;\n",
       "    }\n",
       "\n",
       "    .dataframe thead th {\n",
       "        text-align: right;\n",
       "    }\n",
       "</style>\n",
       "<table border=\"1\" class=\"dataframe\">\n",
       "  <thead>\n",
       "    <tr style=\"text-align: right;\">\n",
       "      <th></th>\n",
       "      <th>StockCode</th>\n",
       "      <th>Description</th>\n",
       "      <th>Quantity</th>\n",
       "      <th>InvoiceDate</th>\n",
       "      <th>UnitPrice</th>\n",
       "      <th>CustomerID</th>\n",
       "      <th>Country</th>\n",
       "      <th>Weekday</th>\n",
       "      <th>Invoice_Date</th>\n",
       "      <th>Invoice_Time</th>\n",
       "      <th>Revenue</th>\n",
       "    </tr>\n",
       "    <tr>\n",
       "      <th>InvoiceNo</th>\n",
       "      <th></th>\n",
       "      <th></th>\n",
       "      <th></th>\n",
       "      <th></th>\n",
       "      <th></th>\n",
       "      <th></th>\n",
       "      <th></th>\n",
       "      <th></th>\n",
       "      <th></th>\n",
       "      <th></th>\n",
       "      <th></th>\n",
       "    </tr>\n",
       "  </thead>\n",
       "  <tbody>\n",
       "    <tr>\n",
       "      <th>C536379</th>\n",
       "      <td>D</td>\n",
       "      <td>Discount</td>\n",
       "      <td>-1</td>\n",
       "      <td>2010-12-01 09:41:00</td>\n",
       "      <td>27.50</td>\n",
       "      <td>14527.0</td>\n",
       "      <td>United Kingdom</td>\n",
       "      <td>Wednesday</td>\n",
       "      <td>2010-12-01</td>\n",
       "      <td>09:41:00</td>\n",
       "      <td>-27.50</td>\n",
       "    </tr>\n",
       "    <tr>\n",
       "      <th>C536383</th>\n",
       "      <td>35004C</td>\n",
       "      <td>SET OF 3 COLOURED  FLYING DUCKS</td>\n",
       "      <td>-1</td>\n",
       "      <td>2010-12-01 09:49:00</td>\n",
       "      <td>4.65</td>\n",
       "      <td>15311.0</td>\n",
       "      <td>United Kingdom</td>\n",
       "      <td>Wednesday</td>\n",
       "      <td>2010-12-01</td>\n",
       "      <td>09:49:00</td>\n",
       "      <td>-4.65</td>\n",
       "    </tr>\n",
       "    <tr>\n",
       "      <th>C536391</th>\n",
       "      <td>22553</td>\n",
       "      <td>PLASTERS IN TIN SKULLS</td>\n",
       "      <td>-24</td>\n",
       "      <td>2010-12-01 10:24:00</td>\n",
       "      <td>1.65</td>\n",
       "      <td>17548.0</td>\n",
       "      <td>United Kingdom</td>\n",
       "      <td>Wednesday</td>\n",
       "      <td>2010-12-01</td>\n",
       "      <td>10:24:00</td>\n",
       "      <td>-39.60</td>\n",
       "    </tr>\n",
       "    <tr>\n",
       "      <th>C536391</th>\n",
       "      <td>22557</td>\n",
       "      <td>PLASTERS IN TIN VINTAGE PAISLEY</td>\n",
       "      <td>-12</td>\n",
       "      <td>2010-12-01 10:24:00</td>\n",
       "      <td>1.65</td>\n",
       "      <td>17548.0</td>\n",
       "      <td>United Kingdom</td>\n",
       "      <td>Wednesday</td>\n",
       "      <td>2010-12-01</td>\n",
       "      <td>10:24:00</td>\n",
       "      <td>-19.80</td>\n",
       "    </tr>\n",
       "    <tr>\n",
       "      <th>C536391</th>\n",
       "      <td>21980</td>\n",
       "      <td>PACK OF 12 RED RETROSPOT TISSUES</td>\n",
       "      <td>-24</td>\n",
       "      <td>2010-12-01 10:24:00</td>\n",
       "      <td>0.29</td>\n",
       "      <td>17548.0</td>\n",
       "      <td>United Kingdom</td>\n",
       "      <td>Wednesday</td>\n",
       "      <td>2010-12-01</td>\n",
       "      <td>10:24:00</td>\n",
       "      <td>-6.96</td>\n",
       "    </tr>\n",
       "  </tbody>\n",
       "</table>\n",
       "</div>"
      ],
      "text/plain": [
       "          StockCode                        Description  Quantity  \\\n",
       "InvoiceNo                                                          \n",
       "C536379           D                           Discount        -1   \n",
       "C536383      35004C    SET OF 3 COLOURED  FLYING DUCKS        -1   \n",
       "C536391       22553             PLASTERS IN TIN SKULLS       -24   \n",
       "C536391       22557   PLASTERS IN TIN VINTAGE PAISLEY        -12   \n",
       "C536391       21980  PACK OF 12 RED RETROSPOT TISSUES        -24   \n",
       "\n",
       "                  InvoiceDate  UnitPrice  CustomerID         Country  \\\n",
       "InvoiceNo                                                              \n",
       "C536379   2010-12-01 09:41:00      27.50     14527.0  United Kingdom   \n",
       "C536383   2010-12-01 09:49:00       4.65     15311.0  United Kingdom   \n",
       "C536391   2010-12-01 10:24:00       1.65     17548.0  United Kingdom   \n",
       "C536391   2010-12-01 10:24:00       1.65     17548.0  United Kingdom   \n",
       "C536391   2010-12-01 10:24:00       0.29     17548.0  United Kingdom   \n",
       "\n",
       "             Weekday Invoice_Date Invoice_Time  Revenue  \n",
       "InvoiceNo                                                \n",
       "C536379    Wednesday   2010-12-01     09:41:00   -27.50  \n",
       "C536383    Wednesday   2010-12-01     09:49:00    -4.65  \n",
       "C536391    Wednesday   2010-12-01     10:24:00   -39.60  \n",
       "C536391    Wednesday   2010-12-01     10:24:00   -19.80  \n",
       "C536391    Wednesday   2010-12-01     10:24:00    -6.96  "
      ]
     },
     "execution_count": 24,
     "metadata": {},
     "output_type": "execute_result"
    }
   ],
   "source": [
    "cancelled_orders = data[data['Quantity'] < 0]\n",
    "cancelled_orders.head()"
   ]
  },
  {
   "cell_type": "code",
   "execution_count": 25,
   "id": "ca78b92c-c5b1-4ff0-9814-3f870a56950d",
   "metadata": {},
   "outputs": [
    {
     "data": {
      "text/html": [
       "<div>\n",
       "<style scoped>\n",
       "    .dataframe tbody tr th:only-of-type {\n",
       "        vertical-align: middle;\n",
       "    }\n",
       "\n",
       "    .dataframe tbody tr th {\n",
       "        vertical-align: top;\n",
       "    }\n",
       "\n",
       "    .dataframe thead th {\n",
       "        text-align: right;\n",
       "    }\n",
       "</style>\n",
       "<table border=\"1\" class=\"dataframe\">\n",
       "  <thead>\n",
       "    <tr style=\"text-align: right;\">\n",
       "      <th></th>\n",
       "      <th>StockCode</th>\n",
       "      <th>Description</th>\n",
       "      <th>Quantity</th>\n",
       "      <th>InvoiceDate</th>\n",
       "      <th>UnitPrice</th>\n",
       "      <th>CustomerID</th>\n",
       "      <th>Country</th>\n",
       "      <th>Weekday</th>\n",
       "      <th>Invoice_Date</th>\n",
       "      <th>Invoice_Time</th>\n",
       "      <th>Revenue</th>\n",
       "    </tr>\n",
       "    <tr>\n",
       "      <th>InvoiceNo</th>\n",
       "      <th></th>\n",
       "      <th></th>\n",
       "      <th></th>\n",
       "      <th></th>\n",
       "      <th></th>\n",
       "      <th></th>\n",
       "      <th></th>\n",
       "      <th></th>\n",
       "      <th></th>\n",
       "      <th></th>\n",
       "      <th></th>\n",
       "    </tr>\n",
       "  </thead>\n",
       "  <tbody>\n",
       "    <tr>\n",
       "      <th>536365</th>\n",
       "      <td>85123A</td>\n",
       "      <td>WHITE HANGING HEART T-LIGHT HOLDER</td>\n",
       "      <td>6</td>\n",
       "      <td>2010-12-01 08:26:00</td>\n",
       "      <td>2.55</td>\n",
       "      <td>17850.0</td>\n",
       "      <td>United Kingdom</td>\n",
       "      <td>Wednesday</td>\n",
       "      <td>2010-12-01</td>\n",
       "      <td>08:26:00</td>\n",
       "      <td>15.30</td>\n",
       "    </tr>\n",
       "    <tr>\n",
       "      <th>536365</th>\n",
       "      <td>71053</td>\n",
       "      <td>WHITE METAL LANTERN</td>\n",
       "      <td>6</td>\n",
       "      <td>2010-12-01 08:26:00</td>\n",
       "      <td>3.39</td>\n",
       "      <td>17850.0</td>\n",
       "      <td>United Kingdom</td>\n",
       "      <td>Wednesday</td>\n",
       "      <td>2010-12-01</td>\n",
       "      <td>08:26:00</td>\n",
       "      <td>20.34</td>\n",
       "    </tr>\n",
       "    <tr>\n",
       "      <th>536365</th>\n",
       "      <td>84406B</td>\n",
       "      <td>CREAM CUPID HEARTS COAT HANGER</td>\n",
       "      <td>8</td>\n",
       "      <td>2010-12-01 08:26:00</td>\n",
       "      <td>2.75</td>\n",
       "      <td>17850.0</td>\n",
       "      <td>United Kingdom</td>\n",
       "      <td>Wednesday</td>\n",
       "      <td>2010-12-01</td>\n",
       "      <td>08:26:00</td>\n",
       "      <td>22.00</td>\n",
       "    </tr>\n",
       "    <tr>\n",
       "      <th>536365</th>\n",
       "      <td>84029G</td>\n",
       "      <td>KNITTED UNION FLAG HOT WATER BOTTLE</td>\n",
       "      <td>6</td>\n",
       "      <td>2010-12-01 08:26:00</td>\n",
       "      <td>3.39</td>\n",
       "      <td>17850.0</td>\n",
       "      <td>United Kingdom</td>\n",
       "      <td>Wednesday</td>\n",
       "      <td>2010-12-01</td>\n",
       "      <td>08:26:00</td>\n",
       "      <td>20.34</td>\n",
       "    </tr>\n",
       "    <tr>\n",
       "      <th>536365</th>\n",
       "      <td>84029E</td>\n",
       "      <td>RED WOOLLY HOTTIE WHITE HEART.</td>\n",
       "      <td>6</td>\n",
       "      <td>2010-12-01 08:26:00</td>\n",
       "      <td>3.39</td>\n",
       "      <td>17850.0</td>\n",
       "      <td>United Kingdom</td>\n",
       "      <td>Wednesday</td>\n",
       "      <td>2010-12-01</td>\n",
       "      <td>08:26:00</td>\n",
       "      <td>20.34</td>\n",
       "    </tr>\n",
       "    <tr>\n",
       "      <th>...</th>\n",
       "      <td>...</td>\n",
       "      <td>...</td>\n",
       "      <td>...</td>\n",
       "      <td>...</td>\n",
       "      <td>...</td>\n",
       "      <td>...</td>\n",
       "      <td>...</td>\n",
       "      <td>...</td>\n",
       "      <td>...</td>\n",
       "      <td>...</td>\n",
       "      <td>...</td>\n",
       "    </tr>\n",
       "    <tr>\n",
       "      <th>581587</th>\n",
       "      <td>22631</td>\n",
       "      <td>CIRCUS PARADE LUNCH BOX</td>\n",
       "      <td>12</td>\n",
       "      <td>2011-12-09 12:50:00</td>\n",
       "      <td>1.95</td>\n",
       "      <td>12680.0</td>\n",
       "      <td>France</td>\n",
       "      <td>Friday</td>\n",
       "      <td>2011-12-09</td>\n",
       "      <td>12:50:00</td>\n",
       "      <td>23.40</td>\n",
       "    </tr>\n",
       "    <tr>\n",
       "      <th>581587</th>\n",
       "      <td>22367</td>\n",
       "      <td>CHILDRENS APRON SPACEBOY DESIGN</td>\n",
       "      <td>8</td>\n",
       "      <td>2011-12-09 12:50:00</td>\n",
       "      <td>1.95</td>\n",
       "      <td>12680.0</td>\n",
       "      <td>France</td>\n",
       "      <td>Friday</td>\n",
       "      <td>2011-12-09</td>\n",
       "      <td>12:50:00</td>\n",
       "      <td>15.60</td>\n",
       "    </tr>\n",
       "    <tr>\n",
       "      <th>581587</th>\n",
       "      <td>22556</td>\n",
       "      <td>PLASTERS IN TIN CIRCUS PARADE</td>\n",
       "      <td>12</td>\n",
       "      <td>2011-12-09 12:50:00</td>\n",
       "      <td>1.65</td>\n",
       "      <td>12680.0</td>\n",
       "      <td>France</td>\n",
       "      <td>Friday</td>\n",
       "      <td>2011-12-09</td>\n",
       "      <td>12:50:00</td>\n",
       "      <td>19.80</td>\n",
       "    </tr>\n",
       "    <tr>\n",
       "      <th>581587</th>\n",
       "      <td>22138</td>\n",
       "      <td>BAKING SET 9 PIECE RETROSPOT</td>\n",
       "      <td>3</td>\n",
       "      <td>2011-12-09 12:50:00</td>\n",
       "      <td>4.95</td>\n",
       "      <td>12680.0</td>\n",
       "      <td>France</td>\n",
       "      <td>Friday</td>\n",
       "      <td>2011-12-09</td>\n",
       "      <td>12:50:00</td>\n",
       "      <td>14.85</td>\n",
       "    </tr>\n",
       "    <tr>\n",
       "      <th>581587</th>\n",
       "      <td>23255</td>\n",
       "      <td>CHILDRENS CUTLERY CIRCUS PARADE</td>\n",
       "      <td>4</td>\n",
       "      <td>2011-12-09 12:50:00</td>\n",
       "      <td>4.15</td>\n",
       "      <td>12680.0</td>\n",
       "      <td>France</td>\n",
       "      <td>Friday</td>\n",
       "      <td>2011-12-09</td>\n",
       "      <td>12:50:00</td>\n",
       "      <td>16.60</td>\n",
       "    </tr>\n",
       "  </tbody>\n",
       "</table>\n",
       "<p>397924 rows × 11 columns</p>\n",
       "</div>"
      ],
      "text/plain": [
       "          StockCode                          Description  Quantity  \\\n",
       "InvoiceNo                                                            \n",
       "536365       85123A   WHITE HANGING HEART T-LIGHT HOLDER         6   \n",
       "536365        71053                  WHITE METAL LANTERN         6   \n",
       "536365       84406B       CREAM CUPID HEARTS COAT HANGER         8   \n",
       "536365       84029G  KNITTED UNION FLAG HOT WATER BOTTLE         6   \n",
       "536365       84029E       RED WOOLLY HOTTIE WHITE HEART.         6   \n",
       "...             ...                                  ...       ...   \n",
       "581587        22631             CIRCUS PARADE LUNCH BOX         12   \n",
       "581587        22367      CHILDRENS APRON SPACEBOY DESIGN         8   \n",
       "581587        22556       PLASTERS IN TIN CIRCUS PARADE         12   \n",
       "581587        22138        BAKING SET 9 PIECE RETROSPOT          3   \n",
       "581587        23255      CHILDRENS CUTLERY CIRCUS PARADE         4   \n",
       "\n",
       "                  InvoiceDate  UnitPrice  CustomerID         Country  \\\n",
       "InvoiceNo                                                              \n",
       "536365    2010-12-01 08:26:00       2.55     17850.0  United Kingdom   \n",
       "536365    2010-12-01 08:26:00       3.39     17850.0  United Kingdom   \n",
       "536365    2010-12-01 08:26:00       2.75     17850.0  United Kingdom   \n",
       "536365    2010-12-01 08:26:00       3.39     17850.0  United Kingdom   \n",
       "536365    2010-12-01 08:26:00       3.39     17850.0  United Kingdom   \n",
       "...                       ...        ...         ...             ...   \n",
       "581587    2011-12-09 12:50:00       1.95     12680.0          France   \n",
       "581587    2011-12-09 12:50:00       1.95     12680.0          France   \n",
       "581587    2011-12-09 12:50:00       1.65     12680.0          France   \n",
       "581587    2011-12-09 12:50:00       4.95     12680.0          France   \n",
       "581587    2011-12-09 12:50:00       4.15     12680.0          France   \n",
       "\n",
       "             Weekday Invoice_Date Invoice_Time  Revenue  \n",
       "InvoiceNo                                                \n",
       "536365     Wednesday   2010-12-01     08:26:00    15.30  \n",
       "536365     Wednesday   2010-12-01     08:26:00    20.34  \n",
       "536365     Wednesday   2010-12-01     08:26:00    22.00  \n",
       "536365     Wednesday   2010-12-01     08:26:00    20.34  \n",
       "536365     Wednesday   2010-12-01     08:26:00    20.34  \n",
       "...              ...          ...          ...      ...  \n",
       "581587        Friday   2011-12-09     12:50:00    23.40  \n",
       "581587        Friday   2011-12-09     12:50:00    15.60  \n",
       "581587        Friday   2011-12-09     12:50:00    19.80  \n",
       "581587        Friday   2011-12-09     12:50:00    14.85  \n",
       "581587        Friday   2011-12-09     12:50:00    16.60  \n",
       "\n",
       "[397924 rows x 11 columns]"
      ]
     },
     "execution_count": 25,
     "metadata": {},
     "output_type": "execute_result"
    }
   ],
   "source": [
    "valid_orders = data[data['Quantity'] > 0]\n",
    "valid_orders"
   ]
  },
  {
   "cell_type": "code",
   "execution_count": 26,
   "id": "19969021-9056-4c42-b83f-17fb1086d4ea",
   "metadata": {},
   "outputs": [
    {
     "data": {
      "text/html": [
       "<div>\n",
       "<style scoped>\n",
       "    .dataframe tbody tr th:only-of-type {\n",
       "        vertical-align: middle;\n",
       "    }\n",
       "\n",
       "    .dataframe tbody tr th {\n",
       "        vertical-align: top;\n",
       "    }\n",
       "\n",
       "    .dataframe thead th {\n",
       "        text-align: right;\n",
       "    }\n",
       "</style>\n",
       "<table border=\"1\" class=\"dataframe\">\n",
       "  <thead>\n",
       "    <tr style=\"text-align: right;\">\n",
       "      <th></th>\n",
       "      <th>StockCode</th>\n",
       "      <th>Description</th>\n",
       "      <th>Quantity</th>\n",
       "      <th>InvoiceDate</th>\n",
       "      <th>UnitPrice</th>\n",
       "      <th>CustomerID</th>\n",
       "      <th>Country</th>\n",
       "      <th>Weekday</th>\n",
       "      <th>Invoice_Date</th>\n",
       "      <th>Invoice_Time</th>\n",
       "      <th>Revenue</th>\n",
       "    </tr>\n",
       "    <tr>\n",
       "      <th>InvoiceNo</th>\n",
       "      <th></th>\n",
       "      <th></th>\n",
       "      <th></th>\n",
       "      <th></th>\n",
       "      <th></th>\n",
       "      <th></th>\n",
       "      <th></th>\n",
       "      <th></th>\n",
       "      <th></th>\n",
       "      <th></th>\n",
       "      <th></th>\n",
       "    </tr>\n",
       "  </thead>\n",
       "  <tbody>\n",
       "  </tbody>\n",
       "</table>\n",
       "</div>"
      ],
      "text/plain": [
       "Empty DataFrame\n",
       "Columns: [StockCode, Description, Quantity, InvoiceDate, UnitPrice, CustomerID, Country, Weekday, Invoice_Date, Invoice_Time, Revenue]\n",
       "Index: []"
      ]
     },
     "execution_count": 26,
     "metadata": {},
     "output_type": "execute_result"
    }
   ],
   "source": [
    "data[data['Description'].isna()]"
   ]
  },
  {
   "cell_type": "code",
   "execution_count": null,
   "id": "a30dc8f5-e8d5-4c1f-adc0-765ac0bcd0b7",
   "metadata": {},
   "outputs": [],
   "source": []
  },
  {
   "cell_type": "code",
   "execution_count": 27,
   "id": "fea68d00-b299-4cce-9b5e-8401ae925e50",
   "metadata": {},
   "outputs": [],
   "source": [
    "valid_orders = valid_orders.drop_duplicates()"
   ]
  },
  {
   "cell_type": "code",
   "execution_count": 28,
   "id": "f352a7bd-78ea-4a01-8b4f-e492cf36fe56",
   "metadata": {},
   "outputs": [
    {
     "data": {
      "text/html": [
       "<div>\n",
       "<style scoped>\n",
       "    .dataframe tbody tr th:only-of-type {\n",
       "        vertical-align: middle;\n",
       "    }\n",
       "\n",
       "    .dataframe tbody tr th {\n",
       "        vertical-align: top;\n",
       "    }\n",
       "\n",
       "    .dataframe thead th {\n",
       "        text-align: right;\n",
       "    }\n",
       "</style>\n",
       "<table border=\"1\" class=\"dataframe\">\n",
       "  <thead>\n",
       "    <tr style=\"text-align: right;\">\n",
       "      <th></th>\n",
       "      <th>StockCode</th>\n",
       "      <th>Description</th>\n",
       "      <th>Quantity</th>\n",
       "      <th>InvoiceDate</th>\n",
       "      <th>UnitPrice</th>\n",
       "      <th>CustomerID</th>\n",
       "      <th>Country</th>\n",
       "      <th>Weekday</th>\n",
       "      <th>Invoice_Date</th>\n",
       "      <th>Invoice_Time</th>\n",
       "      <th>Revenue</th>\n",
       "    </tr>\n",
       "    <tr>\n",
       "      <th>InvoiceNo</th>\n",
       "      <th></th>\n",
       "      <th></th>\n",
       "      <th></th>\n",
       "      <th></th>\n",
       "      <th></th>\n",
       "      <th></th>\n",
       "      <th></th>\n",
       "      <th></th>\n",
       "      <th></th>\n",
       "      <th></th>\n",
       "      <th></th>\n",
       "    </tr>\n",
       "  </thead>\n",
       "  <tbody>\n",
       "  </tbody>\n",
       "</table>\n",
       "</div>"
      ],
      "text/plain": [
       "Empty DataFrame\n",
       "Columns: [StockCode, Description, Quantity, InvoiceDate, UnitPrice, CustomerID, Country, Weekday, Invoice_Date, Invoice_Time, Revenue]\n",
       "Index: []"
      ]
     },
     "execution_count": 28,
     "metadata": {},
     "output_type": "execute_result"
    }
   ],
   "source": [
    "valid_orders[valid_orders.index.isna()]"
   ]
  },
  {
   "cell_type": "code",
   "execution_count": 29,
   "id": "83132a42-57c3-49da-b8fc-6ebddc897668",
   "metadata": {},
   "outputs": [
    {
     "data": {
      "text/html": [
       "<div>\n",
       "<style scoped>\n",
       "    .dataframe tbody tr th:only-of-type {\n",
       "        vertical-align: middle;\n",
       "    }\n",
       "\n",
       "    .dataframe tbody tr th {\n",
       "        vertical-align: top;\n",
       "    }\n",
       "\n",
       "    .dataframe thead th {\n",
       "        text-align: right;\n",
       "    }\n",
       "</style>\n",
       "<table border=\"1\" class=\"dataframe\">\n",
       "  <thead>\n",
       "    <tr style=\"text-align: right;\">\n",
       "      <th></th>\n",
       "      <th>StockCode</th>\n",
       "      <th>Description</th>\n",
       "      <th>Quantity</th>\n",
       "      <th>UnitPrice</th>\n",
       "      <th>CustomerID</th>\n",
       "      <th>Country</th>\n",
       "      <th>Weekday</th>\n",
       "      <th>Invoice_Date</th>\n",
       "      <th>Invoice_Time</th>\n",
       "      <th>Revenue</th>\n",
       "    </tr>\n",
       "    <tr>\n",
       "      <th>InvoiceNo</th>\n",
       "      <th></th>\n",
       "      <th></th>\n",
       "      <th></th>\n",
       "      <th></th>\n",
       "      <th></th>\n",
       "      <th></th>\n",
       "      <th></th>\n",
       "      <th></th>\n",
       "      <th></th>\n",
       "      <th></th>\n",
       "    </tr>\n",
       "  </thead>\n",
       "  <tbody>\n",
       "    <tr>\n",
       "      <th>536365</th>\n",
       "      <td>85123A</td>\n",
       "      <td>WHITE HANGING HEART T-LIGHT HOLDER</td>\n",
       "      <td>6</td>\n",
       "      <td>2.55</td>\n",
       "      <td>17850.0</td>\n",
       "      <td>United Kingdom</td>\n",
       "      <td>Wednesday</td>\n",
       "      <td>2010-12-01</td>\n",
       "      <td>08:26:00</td>\n",
       "      <td>15.30</td>\n",
       "    </tr>\n",
       "    <tr>\n",
       "      <th>536365</th>\n",
       "      <td>71053</td>\n",
       "      <td>WHITE METAL LANTERN</td>\n",
       "      <td>6</td>\n",
       "      <td>3.39</td>\n",
       "      <td>17850.0</td>\n",
       "      <td>United Kingdom</td>\n",
       "      <td>Wednesday</td>\n",
       "      <td>2010-12-01</td>\n",
       "      <td>08:26:00</td>\n",
       "      <td>20.34</td>\n",
       "    </tr>\n",
       "    <tr>\n",
       "      <th>536365</th>\n",
       "      <td>84406B</td>\n",
       "      <td>CREAM CUPID HEARTS COAT HANGER</td>\n",
       "      <td>8</td>\n",
       "      <td>2.75</td>\n",
       "      <td>17850.0</td>\n",
       "      <td>United Kingdom</td>\n",
       "      <td>Wednesday</td>\n",
       "      <td>2010-12-01</td>\n",
       "      <td>08:26:00</td>\n",
       "      <td>22.00</td>\n",
       "    </tr>\n",
       "    <tr>\n",
       "      <th>536365</th>\n",
       "      <td>84029G</td>\n",
       "      <td>KNITTED UNION FLAG HOT WATER BOTTLE</td>\n",
       "      <td>6</td>\n",
       "      <td>3.39</td>\n",
       "      <td>17850.0</td>\n",
       "      <td>United Kingdom</td>\n",
       "      <td>Wednesday</td>\n",
       "      <td>2010-12-01</td>\n",
       "      <td>08:26:00</td>\n",
       "      <td>20.34</td>\n",
       "    </tr>\n",
       "    <tr>\n",
       "      <th>536365</th>\n",
       "      <td>84029E</td>\n",
       "      <td>RED WOOLLY HOTTIE WHITE HEART.</td>\n",
       "      <td>6</td>\n",
       "      <td>3.39</td>\n",
       "      <td>17850.0</td>\n",
       "      <td>United Kingdom</td>\n",
       "      <td>Wednesday</td>\n",
       "      <td>2010-12-01</td>\n",
       "      <td>08:26:00</td>\n",
       "      <td>20.34</td>\n",
       "    </tr>\n",
       "    <tr>\n",
       "      <th>...</th>\n",
       "      <td>...</td>\n",
       "      <td>...</td>\n",
       "      <td>...</td>\n",
       "      <td>...</td>\n",
       "      <td>...</td>\n",
       "      <td>...</td>\n",
       "      <td>...</td>\n",
       "      <td>...</td>\n",
       "      <td>...</td>\n",
       "      <td>...</td>\n",
       "    </tr>\n",
       "    <tr>\n",
       "      <th>581587</th>\n",
       "      <td>22631</td>\n",
       "      <td>CIRCUS PARADE LUNCH BOX</td>\n",
       "      <td>12</td>\n",
       "      <td>1.95</td>\n",
       "      <td>12680.0</td>\n",
       "      <td>France</td>\n",
       "      <td>Friday</td>\n",
       "      <td>2011-12-09</td>\n",
       "      <td>12:50:00</td>\n",
       "      <td>23.40</td>\n",
       "    </tr>\n",
       "    <tr>\n",
       "      <th>581587</th>\n",
       "      <td>22367</td>\n",
       "      <td>CHILDRENS APRON SPACEBOY DESIGN</td>\n",
       "      <td>8</td>\n",
       "      <td>1.95</td>\n",
       "      <td>12680.0</td>\n",
       "      <td>France</td>\n",
       "      <td>Friday</td>\n",
       "      <td>2011-12-09</td>\n",
       "      <td>12:50:00</td>\n",
       "      <td>15.60</td>\n",
       "    </tr>\n",
       "    <tr>\n",
       "      <th>581587</th>\n",
       "      <td>22556</td>\n",
       "      <td>PLASTERS IN TIN CIRCUS PARADE</td>\n",
       "      <td>12</td>\n",
       "      <td>1.65</td>\n",
       "      <td>12680.0</td>\n",
       "      <td>France</td>\n",
       "      <td>Friday</td>\n",
       "      <td>2011-12-09</td>\n",
       "      <td>12:50:00</td>\n",
       "      <td>19.80</td>\n",
       "    </tr>\n",
       "    <tr>\n",
       "      <th>581587</th>\n",
       "      <td>22138</td>\n",
       "      <td>BAKING SET 9 PIECE RETROSPOT</td>\n",
       "      <td>3</td>\n",
       "      <td>4.95</td>\n",
       "      <td>12680.0</td>\n",
       "      <td>France</td>\n",
       "      <td>Friday</td>\n",
       "      <td>2011-12-09</td>\n",
       "      <td>12:50:00</td>\n",
       "      <td>14.85</td>\n",
       "    </tr>\n",
       "    <tr>\n",
       "      <th>581587</th>\n",
       "      <td>23255</td>\n",
       "      <td>CHILDRENS CUTLERY CIRCUS PARADE</td>\n",
       "      <td>4</td>\n",
       "      <td>4.15</td>\n",
       "      <td>12680.0</td>\n",
       "      <td>France</td>\n",
       "      <td>Friday</td>\n",
       "      <td>2011-12-09</td>\n",
       "      <td>12:50:00</td>\n",
       "      <td>16.60</td>\n",
       "    </tr>\n",
       "  </tbody>\n",
       "</table>\n",
       "<p>392692 rows × 10 columns</p>\n",
       "</div>"
      ],
      "text/plain": [
       "          StockCode                          Description  Quantity  UnitPrice  \\\n",
       "InvoiceNo                                                                       \n",
       "536365       85123A   WHITE HANGING HEART T-LIGHT HOLDER         6       2.55   \n",
       "536365        71053                  WHITE METAL LANTERN         6       3.39   \n",
       "536365       84406B       CREAM CUPID HEARTS COAT HANGER         8       2.75   \n",
       "536365       84029G  KNITTED UNION FLAG HOT WATER BOTTLE         6       3.39   \n",
       "536365       84029E       RED WOOLLY HOTTIE WHITE HEART.         6       3.39   \n",
       "...             ...                                  ...       ...        ...   \n",
       "581587        22631             CIRCUS PARADE LUNCH BOX         12       1.95   \n",
       "581587        22367      CHILDRENS APRON SPACEBOY DESIGN         8       1.95   \n",
       "581587        22556       PLASTERS IN TIN CIRCUS PARADE         12       1.65   \n",
       "581587        22138        BAKING SET 9 PIECE RETROSPOT          3       4.95   \n",
       "581587        23255      CHILDRENS CUTLERY CIRCUS PARADE         4       4.15   \n",
       "\n",
       "           CustomerID         Country    Weekday Invoice_Date Invoice_Time  \\\n",
       "InvoiceNo                                                                    \n",
       "536365        17850.0  United Kingdom  Wednesday   2010-12-01     08:26:00   \n",
       "536365        17850.0  United Kingdom  Wednesday   2010-12-01     08:26:00   \n",
       "536365        17850.0  United Kingdom  Wednesday   2010-12-01     08:26:00   \n",
       "536365        17850.0  United Kingdom  Wednesday   2010-12-01     08:26:00   \n",
       "536365        17850.0  United Kingdom  Wednesday   2010-12-01     08:26:00   \n",
       "...               ...             ...        ...          ...          ...   \n",
       "581587        12680.0          France     Friday   2011-12-09     12:50:00   \n",
       "581587        12680.0          France     Friday   2011-12-09     12:50:00   \n",
       "581587        12680.0          France     Friday   2011-12-09     12:50:00   \n",
       "581587        12680.0          France     Friday   2011-12-09     12:50:00   \n",
       "581587        12680.0          France     Friday   2011-12-09     12:50:00   \n",
       "\n",
       "           Revenue  \n",
       "InvoiceNo           \n",
       "536365       15.30  \n",
       "536365       20.34  \n",
       "536365       22.00  \n",
       "536365       20.34  \n",
       "536365       20.34  \n",
       "...            ...  \n",
       "581587       23.40  \n",
       "581587       15.60  \n",
       "581587       19.80  \n",
       "581587       14.85  \n",
       "581587       16.60  \n",
       "\n",
       "[392692 rows x 10 columns]"
      ]
     },
     "execution_count": 29,
     "metadata": {},
     "output_type": "execute_result"
    }
   ],
   "source": [
    "valid_orders.drop(columns = 'InvoiceDate')"
   ]
  },
  {
   "cell_type": "code",
   "execution_count": null,
   "id": "cf0d1c65-4392-42b6-a9a7-e6b306543a2e",
   "metadata": {},
   "outputs": [],
   "source": []
  },
  {
   "cell_type": "code",
   "execution_count": 30,
   "id": "5df416ac-87bb-4f43-8498-c65761b53cd9",
   "metadata": {},
   "outputs": [
    {
     "data": {
      "text/html": [
       "<div>\n",
       "<style scoped>\n",
       "    .dataframe tbody tr th:only-of-type {\n",
       "        vertical-align: middle;\n",
       "    }\n",
       "\n",
       "    .dataframe tbody tr th {\n",
       "        vertical-align: top;\n",
       "    }\n",
       "\n",
       "    .dataframe thead th {\n",
       "        text-align: right;\n",
       "    }\n",
       "</style>\n",
       "<table border=\"1\" class=\"dataframe\">\n",
       "  <thead>\n",
       "    <tr style=\"text-align: right;\">\n",
       "      <th></th>\n",
       "      <th>CustomerID</th>\n",
       "      <th>TotalRevenue</th>\n",
       "    </tr>\n",
       "    <tr>\n",
       "      <th>InvoiceNo</th>\n",
       "      <th></th>\n",
       "      <th></th>\n",
       "    </tr>\n",
       "  </thead>\n",
       "  <tbody>\n",
       "    <tr>\n",
       "      <th>536365</th>\n",
       "      <td>17850.0</td>\n",
       "      <td>139.12</td>\n",
       "    </tr>\n",
       "    <tr>\n",
       "      <th>536366</th>\n",
       "      <td>17850.0</td>\n",
       "      <td>22.20</td>\n",
       "    </tr>\n",
       "    <tr>\n",
       "      <th>536367</th>\n",
       "      <td>13047.0</td>\n",
       "      <td>278.73</td>\n",
       "    </tr>\n",
       "    <tr>\n",
       "      <th>536368</th>\n",
       "      <td>13047.0</td>\n",
       "      <td>70.05</td>\n",
       "    </tr>\n",
       "    <tr>\n",
       "      <th>536369</th>\n",
       "      <td>13047.0</td>\n",
       "      <td>17.85</td>\n",
       "    </tr>\n",
       "    <tr>\n",
       "      <th>...</th>\n",
       "      <td>...</td>\n",
       "      <td>...</td>\n",
       "    </tr>\n",
       "    <tr>\n",
       "      <th>581583</th>\n",
       "      <td>13777.0</td>\n",
       "      <td>124.60</td>\n",
       "    </tr>\n",
       "    <tr>\n",
       "      <th>581584</th>\n",
       "      <td>13777.0</td>\n",
       "      <td>140.64</td>\n",
       "    </tr>\n",
       "    <tr>\n",
       "      <th>581585</th>\n",
       "      <td>15804.0</td>\n",
       "      <td>329.05</td>\n",
       "    </tr>\n",
       "    <tr>\n",
       "      <th>581586</th>\n",
       "      <td>13113.0</td>\n",
       "      <td>339.20</td>\n",
       "    </tr>\n",
       "    <tr>\n",
       "      <th>581587</th>\n",
       "      <td>12680.0</td>\n",
       "      <td>249.45</td>\n",
       "    </tr>\n",
       "  </tbody>\n",
       "</table>\n",
       "<p>18534 rows × 2 columns</p>\n",
       "</div>"
      ],
      "text/plain": [
       "           CustomerID  TotalRevenue\n",
       "InvoiceNo                          \n",
       "536365        17850.0        139.12\n",
       "536366        17850.0         22.20\n",
       "536367        13047.0        278.73\n",
       "536368        13047.0         70.05\n",
       "536369        13047.0         17.85\n",
       "...               ...           ...\n",
       "581583        13777.0        124.60\n",
       "581584        13777.0        140.64\n",
       "581585        15804.0        329.05\n",
       "581586        13113.0        339.20\n",
       "581587        12680.0        249.45\n",
       "\n",
       "[18534 rows x 2 columns]"
      ]
     },
     "execution_count": 30,
     "metadata": {},
     "output_type": "execute_result"
    }
   ],
   "source": [
    "# total per bill per customer\n",
    "total_per_order = valid_orders.groupby(['InvoiceNo', 'CustomerID'])['Revenue'].sum().reset_index(name='TotalRevenue')\n",
    "total_per_order = total_per_order.set_index('InvoiceNo')\n",
    "total_per_order"
   ]
  },
  {
   "cell_type": "code",
   "execution_count": 31,
   "id": "09510e2f-e5f7-4776-986e-fad1ac61e091",
   "metadata": {},
   "outputs": [
    {
     "data": {
      "text/html": [
       "<div>\n",
       "<style scoped>\n",
       "    .dataframe tbody tr th:only-of-type {\n",
       "        vertical-align: middle;\n",
       "    }\n",
       "\n",
       "    .dataframe tbody tr th {\n",
       "        vertical-align: top;\n",
       "    }\n",
       "\n",
       "    .dataframe thead th {\n",
       "        text-align: right;\n",
       "    }\n",
       "</style>\n",
       "<table border=\"1\" class=\"dataframe\">\n",
       "  <thead>\n",
       "    <tr style=\"text-align: right;\">\n",
       "      <th></th>\n",
       "      <th>CustomerID</th>\n",
       "      <th>TotalRevenue</th>\n",
       "    </tr>\n",
       "    <tr>\n",
       "      <th>InvoiceNo</th>\n",
       "      <th></th>\n",
       "      <th></th>\n",
       "    </tr>\n",
       "  </thead>\n",
       "  <tbody>\n",
       "    <tr>\n",
       "      <th>581483</th>\n",
       "      <td>16446.0</td>\n",
       "      <td>168469.60</td>\n",
       "    </tr>\n",
       "    <tr>\n",
       "      <th>541431</th>\n",
       "      <td>12346.0</td>\n",
       "      <td>77183.60</td>\n",
       "    </tr>\n",
       "    <tr>\n",
       "      <th>556444</th>\n",
       "      <td>15098.0</td>\n",
       "      <td>38970.00</td>\n",
       "    </tr>\n",
       "    <tr>\n",
       "      <th>567423</th>\n",
       "      <td>17450.0</td>\n",
       "      <td>31698.16</td>\n",
       "    </tr>\n",
       "    <tr>\n",
       "      <th>556917</th>\n",
       "      <td>12415.0</td>\n",
       "      <td>22775.93</td>\n",
       "    </tr>\n",
       "  </tbody>\n",
       "</table>\n",
       "</div>"
      ],
      "text/plain": [
       "           CustomerID  TotalRevenue\n",
       "InvoiceNo                          \n",
       "581483        16446.0     168469.60\n",
       "541431        12346.0      77183.60\n",
       "556444        15098.0      38970.00\n",
       "567423        17450.0      31698.16\n",
       "556917        12415.0      22775.93"
      ]
     },
     "execution_count": 31,
     "metadata": {},
     "output_type": "execute_result"
    }
   ],
   "source": [
    "# top 5 totals\n",
    "total_per_order = valid_orders.groupby(['InvoiceNo', 'CustomerID'])['Revenue'].sum().reset_index(name='TotalRevenue')\n",
    "total_per_order = total_per_order.set_index('InvoiceNo')\n",
    "total_per_order.sort_values(by ='TotalRevenue',ascending = False).head()"
   ]
  },
  {
   "cell_type": "code",
   "execution_count": 32,
   "id": "f0e3934b-cd81-47ee-8e2a-cb6d4e4e76b0",
   "metadata": {},
   "outputs": [
    {
     "data": {
      "text/html": [
       "<div>\n",
       "<style scoped>\n",
       "    .dataframe tbody tr th:only-of-type {\n",
       "        vertical-align: middle;\n",
       "    }\n",
       "\n",
       "    .dataframe tbody tr th {\n",
       "        vertical-align: top;\n",
       "    }\n",
       "\n",
       "    .dataframe thead th {\n",
       "        text-align: right;\n",
       "    }\n",
       "</style>\n",
       "<table border=\"1\" class=\"dataframe\">\n",
       "  <thead>\n",
       "    <tr style=\"text-align: right;\">\n",
       "      <th></th>\n",
       "      <th>TotalSpent</th>\n",
       "    </tr>\n",
       "    <tr>\n",
       "      <th>CustomerID</th>\n",
       "      <th></th>\n",
       "    </tr>\n",
       "  </thead>\n",
       "  <tbody>\n",
       "    <tr>\n",
       "      <th>14646.0</th>\n",
       "      <td>280206.02</td>\n",
       "    </tr>\n",
       "    <tr>\n",
       "      <th>18102.0</th>\n",
       "      <td>258741.30</td>\n",
       "    </tr>\n",
       "    <tr>\n",
       "      <th>17450.0</th>\n",
       "      <td>194390.79</td>\n",
       "    </tr>\n",
       "    <tr>\n",
       "      <th>16446.0</th>\n",
       "      <td>168472.50</td>\n",
       "    </tr>\n",
       "    <tr>\n",
       "      <th>14911.0</th>\n",
       "      <td>143711.17</td>\n",
       "    </tr>\n",
       "  </tbody>\n",
       "</table>\n",
       "</div>"
      ],
      "text/plain": [
       "            TotalSpent\n",
       "CustomerID            \n",
       "14646.0      280206.02\n",
       "18102.0      258741.30\n",
       "17450.0      194390.79\n",
       "16446.0      168472.50\n",
       "14911.0      143711.17"
      ]
     },
     "execution_count": 32,
     "metadata": {},
     "output_type": "execute_result"
    }
   ],
   "source": [
    "# top 5 spending customers \n",
    "top_customers = valid_orders.groupby('CustomerID')['Revenue'].sum().reset_index(name='TotalSpent')\n",
    "top_customers = top_customers.set_index('CustomerID')\n",
    "top_customers.sort_values(by ='TotalSpent',ascending = False).head()"
   ]
  },
  {
   "cell_type": "markdown",
   "id": "f70a9b75-bc6a-4361-bc79-c153c2478e5b",
   "metadata": {},
   "source": [
    "### 1.1 Shape and Columns\n",
    "\n",
    "The dataset contains **X rows** and **Y columns**. Key columns include:\n",
    "- `InvoiceNo`: Transaction identifier\n",
    "- `StockCode`: Product identifier\n",
    "- `Description`: Product name\n",
    "- `Quantity`: Number of units sold\n",
    "- `InvoiceDate`: Timestamp of the transaction\n",
    "- `UnitPrice`: Price per unit\n",
    "- `CustomerID`: Unique customer identifier\n",
    "- `Country`: Country of purchase"
   ]
  },
  {
   "cell_type": "code",
   "execution_count": 34,
   "id": "3c232124-eb65-4ca1-a19d-db2af57f4097",
   "metadata": {},
   "outputs": [
    {
     "data": {
      "text/plain": [
       "Timestamp('2010-12-01 08:26:00')"
      ]
     },
     "execution_count": 34,
     "metadata": {},
     "output_type": "execute_result"
    }
   ],
   "source": [
    "#date range of data\n",
    "min_date = valid_orders['InvoiceDate'].min()\n",
    "min_date"
   ]
  },
  {
   "cell_type": "code",
   "execution_count": 35,
   "id": "ca08d015-6887-4b94-b651-90a2deefcdbf",
   "metadata": {},
   "outputs": [
    {
     "data": {
      "text/plain": [
       "Timestamp('2011-12-09 12:50:00')"
      ]
     },
     "execution_count": 35,
     "metadata": {},
     "output_type": "execute_result"
    }
   ],
   "source": [
    "max_date = valid_orders['InvoiceDate'].max()\n",
    "max_date"
   ]
  },
  {
   "cell_type": "code",
   "execution_count": 36,
   "id": "38a84f44-efd2-4767-b99d-292fb1be0468",
   "metadata": {},
   "outputs": [
    {
     "data": {
      "text/plain": [
       "373"
      ]
     },
     "execution_count": 36,
     "metadata": {},
     "output_type": "execute_result"
    }
   ],
   "source": [
    "days = max_date - min_date\n",
    "days.days"
   ]
  },
  {
   "cell_type": "code",
   "execution_count": 37,
   "id": "b6762aa8-95d4-447e-9d51-eacd854cb88f",
   "metadata": {},
   "outputs": [
    {
     "name": "stdout",
     "output_type": "stream",
     "text": [
      "Orders range from 2010-12-01 to 2011-12-09 for a total of 373 days\n"
     ]
    }
   ],
   "source": [
    "print('Orders range from' , min_date.date(), 'to' ,max_date.date() , 'for a total of' , days.days , 'days')"
   ]
  },
  {
   "cell_type": "markdown",
   "id": "88353dcb-7dce-48d5-ab7e-2d41755db657",
   "metadata": {},
   "source": [
    "### 1.2 Date Range\n",
    "\n",
    "The dataset covers transactions from **2010-12-01** to **2011-12-09**, allowing for trend analysis over time."
   ]
  },
  {
   "cell_type": "code",
   "execution_count": 39,
   "id": "efb7266d-0fbf-47ea-ac98-4dff1c36f894",
   "metadata": {},
   "outputs": [
    {
     "name": "stdout",
     "output_type": "stream",
     "text": [
      "Unique Invoices: 22190\n",
      "Unique Countries: 37\n"
     ]
    }
   ],
   "source": [
    "print(\"Unique Invoices:\", data.index.nunique())\n",
    "print(\"Unique Countries:\", valid_orders['Country'].nunique())"
   ]
  },
  {
   "cell_type": "code",
   "execution_count": 40,
   "id": "c1b46867-e18f-4d20-ad30-635a640e176f",
   "metadata": {},
   "outputs": [
    {
     "name": "stdout",
     "output_type": "stream",
     "text": [
      "Unique Customers: 4372\n"
     ]
    }
   ],
   "source": [
    "#Number of unique customers\n",
    "unique_customers = data['CustomerID'].nunique()\n",
    "print('Unique Customers:' , unique_customers)"
   ]
  },
  {
   "cell_type": "code",
   "execution_count": 41,
   "id": "adad512b-4d23-453e-98a2-d7dbeb9be602",
   "metadata": {},
   "outputs": [
    {
     "name": "stdout",
     "output_type": "stream",
     "text": [
      "Unique Items: 3684\n"
     ]
    }
   ],
   "source": [
    "#unique items\n",
    "unique_items = data['StockCode'].nunique()\n",
    "print('Unique Items:' , unique_items)"
   ]
  },
  {
   "cell_type": "markdown",
   "id": "5eed9b10-11a7-44bf-aa21-fa10e4d443db",
   "metadata": {},
   "source": [
    "### 1.3 Unique Entities\n",
    "\n",
    "- **Invoices:** 22190\n",
    "- **Customers:** 4372\n",
    "- **Products:** 3684\n",
    "- **Countries:** 37  "
   ]
  },
  {
   "cell_type": "code",
   "execution_count": 43,
   "id": "ec810b0c-9f00-4493-966f-251cd35239b1",
   "metadata": {},
   "outputs": [
    {
     "name": "stdout",
     "output_type": "stream",
     "text": [
      "<class 'pandas.core.frame.DataFrame'>\n",
      "Index: 406829 entries, 536365 to C581569\n",
      "Data columns (total 11 columns):\n",
      " #   Column        Non-Null Count   Dtype         \n",
      "---  ------        --------------   -----         \n",
      " 0   StockCode     406829 non-null  object        \n",
      " 1   Description   406829 non-null  object        \n",
      " 2   Quantity      406829 non-null  int64         \n",
      " 3   InvoiceDate   406829 non-null  datetime64[ns]\n",
      " 4   UnitPrice     406829 non-null  float64       \n",
      " 5   CustomerID    406829 non-null  float64       \n",
      " 6   Country       406829 non-null  object        \n",
      " 7   Weekday       406829 non-null  object        \n",
      " 8   Invoice_Date  406829 non-null  object        \n",
      " 9   Invoice_Time  406829 non-null  object        \n",
      " 10  Revenue       406829 non-null  float64       \n",
      "dtypes: datetime64[ns](1), float64(3), int64(1), object(6)\n",
      "memory usage: 53.4+ MB\n"
     ]
    }
   ],
   "source": [
    "data.info()"
   ]
  },
  {
   "cell_type": "code",
   "execution_count": 44,
   "id": "ae3f5f80-1c60-46cd-81f0-6b44fcdf5eed",
   "metadata": {},
   "outputs": [
    {
     "name": "stdout",
     "output_type": "stream",
     "text": [
      "Shape of dataset: (392692, 11)\n"
     ]
    }
   ],
   "source": [
    "print(\"Shape of dataset:\", valid_orders.shape)"
   ]
  },
  {
   "cell_type": "code",
   "execution_count": 45,
   "id": "85ba61b9-594d-4373-830e-88171232390f",
   "metadata": {},
   "outputs": [
    {
     "name": "stdout",
     "output_type": "stream",
     "text": [
      "Columns: ['StockCode', 'Description', 'Quantity', 'InvoiceDate', 'UnitPrice', 'CustomerID', 'Country', 'Weekday', 'Invoice_Date', 'Invoice_Time', 'Revenue']\n"
     ]
    }
   ],
   "source": [
    "print(\"Columns:\", valid_orders.columns.tolist())"
   ]
  },
  {
   "cell_type": "markdown",
   "id": "6f93b137-89b0-4bc6-bee4-747971aa7200",
   "metadata": {},
   "source": [
    "### 1.1 Shape and Columns\n",
    "\n",
    "The dataset contains **392692 rows** and **11 columns**. Key columns include:\n",
    "- `InvoiceNo`: Transaction identifier\n",
    "- `StockCode`: Product identifier\n",
    "- `Description`: Product name\n",
    "- `Quantity`: Number of units sold\n",
    "- `InvoiceDate`: Timestamp of the transaction\n",
    "- `UnitPrice`: Price per unit\n",
    "- `CustomerID`: Unique customer identifier\n",
    "- `Country`: Country of purchase"
   ]
  },
  {
   "cell_type": "code",
   "execution_count": 46,
   "id": "34ff9d55-24fb-41a7-8c87-71a7154a096c",
   "metadata": {},
   "outputs": [
    {
     "data": {
      "text/html": [
       "<div>\n",
       "<style scoped>\n",
       "    .dataframe tbody tr th:only-of-type {\n",
       "        vertical-align: middle;\n",
       "    }\n",
       "\n",
       "    .dataframe tbody tr th {\n",
       "        vertical-align: top;\n",
       "    }\n",
       "\n",
       "    .dataframe thead th {\n",
       "        text-align: right;\n",
       "    }\n",
       "</style>\n",
       "<table border=\"1\" class=\"dataframe\">\n",
       "  <thead>\n",
       "    <tr style=\"text-align: right;\">\n",
       "      <th></th>\n",
       "      <th>StockCode</th>\n",
       "      <th>Description</th>\n",
       "      <th>Quantity</th>\n",
       "      <th>InvoiceDate</th>\n",
       "      <th>UnitPrice</th>\n",
       "      <th>CustomerID</th>\n",
       "      <th>Country</th>\n",
       "      <th>Weekday</th>\n",
       "      <th>Invoice_Date</th>\n",
       "      <th>Invoice_Time</th>\n",
       "      <th>Revenue</th>\n",
       "    </tr>\n",
       "    <tr>\n",
       "      <th>InvoiceNo</th>\n",
       "      <th></th>\n",
       "      <th></th>\n",
       "      <th></th>\n",
       "      <th></th>\n",
       "      <th></th>\n",
       "      <th></th>\n",
       "      <th></th>\n",
       "      <th></th>\n",
       "      <th></th>\n",
       "      <th></th>\n",
       "      <th></th>\n",
       "    </tr>\n",
       "  </thead>\n",
       "  <tbody>\n",
       "    <tr>\n",
       "      <th>536365</th>\n",
       "      <td>85123A</td>\n",
       "      <td>WHITE HANGING HEART T-LIGHT HOLDER</td>\n",
       "      <td>6</td>\n",
       "      <td>2010-12-01 08:26:00</td>\n",
       "      <td>2.55</td>\n",
       "      <td>17850.0</td>\n",
       "      <td>United Kingdom</td>\n",
       "      <td>Wednesday</td>\n",
       "      <td>2010-12-01</td>\n",
       "      <td>08:26:00</td>\n",
       "      <td>15.30</td>\n",
       "    </tr>\n",
       "    <tr>\n",
       "      <th>536365</th>\n",
       "      <td>71053</td>\n",
       "      <td>WHITE METAL LANTERN</td>\n",
       "      <td>6</td>\n",
       "      <td>2010-12-01 08:26:00</td>\n",
       "      <td>3.39</td>\n",
       "      <td>17850.0</td>\n",
       "      <td>United Kingdom</td>\n",
       "      <td>Wednesday</td>\n",
       "      <td>2010-12-01</td>\n",
       "      <td>08:26:00</td>\n",
       "      <td>20.34</td>\n",
       "    </tr>\n",
       "    <tr>\n",
       "      <th>536365</th>\n",
       "      <td>84406B</td>\n",
       "      <td>CREAM CUPID HEARTS COAT HANGER</td>\n",
       "      <td>8</td>\n",
       "      <td>2010-12-01 08:26:00</td>\n",
       "      <td>2.75</td>\n",
       "      <td>17850.0</td>\n",
       "      <td>United Kingdom</td>\n",
       "      <td>Wednesday</td>\n",
       "      <td>2010-12-01</td>\n",
       "      <td>08:26:00</td>\n",
       "      <td>22.00</td>\n",
       "    </tr>\n",
       "    <tr>\n",
       "      <th>536365</th>\n",
       "      <td>84029G</td>\n",
       "      <td>KNITTED UNION FLAG HOT WATER BOTTLE</td>\n",
       "      <td>6</td>\n",
       "      <td>2010-12-01 08:26:00</td>\n",
       "      <td>3.39</td>\n",
       "      <td>17850.0</td>\n",
       "      <td>United Kingdom</td>\n",
       "      <td>Wednesday</td>\n",
       "      <td>2010-12-01</td>\n",
       "      <td>08:26:00</td>\n",
       "      <td>20.34</td>\n",
       "    </tr>\n",
       "    <tr>\n",
       "      <th>536365</th>\n",
       "      <td>84029E</td>\n",
       "      <td>RED WOOLLY HOTTIE WHITE HEART.</td>\n",
       "      <td>6</td>\n",
       "      <td>2010-12-01 08:26:00</td>\n",
       "      <td>3.39</td>\n",
       "      <td>17850.0</td>\n",
       "      <td>United Kingdom</td>\n",
       "      <td>Wednesday</td>\n",
       "      <td>2010-12-01</td>\n",
       "      <td>08:26:00</td>\n",
       "      <td>20.34</td>\n",
       "    </tr>\n",
       "  </tbody>\n",
       "</table>\n",
       "</div>"
      ],
      "text/plain": [
       "          StockCode                          Description  Quantity  \\\n",
       "InvoiceNo                                                            \n",
       "536365       85123A   WHITE HANGING HEART T-LIGHT HOLDER         6   \n",
       "536365        71053                  WHITE METAL LANTERN         6   \n",
       "536365       84406B       CREAM CUPID HEARTS COAT HANGER         8   \n",
       "536365       84029G  KNITTED UNION FLAG HOT WATER BOTTLE         6   \n",
       "536365       84029E       RED WOOLLY HOTTIE WHITE HEART.         6   \n",
       "\n",
       "                  InvoiceDate  UnitPrice  CustomerID         Country  \\\n",
       "InvoiceNo                                                              \n",
       "536365    2010-12-01 08:26:00       2.55     17850.0  United Kingdom   \n",
       "536365    2010-12-01 08:26:00       3.39     17850.0  United Kingdom   \n",
       "536365    2010-12-01 08:26:00       2.75     17850.0  United Kingdom   \n",
       "536365    2010-12-01 08:26:00       3.39     17850.0  United Kingdom   \n",
       "536365    2010-12-01 08:26:00       3.39     17850.0  United Kingdom   \n",
       "\n",
       "             Weekday Invoice_Date Invoice_Time  Revenue  \n",
       "InvoiceNo                                                \n",
       "536365     Wednesday   2010-12-01     08:26:00    15.30  \n",
       "536365     Wednesday   2010-12-01     08:26:00    20.34  \n",
       "536365     Wednesday   2010-12-01     08:26:00    22.00  \n",
       "536365     Wednesday   2010-12-01     08:26:00    20.34  \n",
       "536365     Wednesday   2010-12-01     08:26:00    20.34  "
      ]
     },
     "execution_count": 46,
     "metadata": {},
     "output_type": "execute_result"
    }
   ],
   "source": [
    "data.head()"
   ]
  },
  {
   "cell_type": "code",
   "execution_count": 47,
   "id": "ff922146-cc81-4731-a739-3415edbc35e8",
   "metadata": {},
   "outputs": [
    {
     "data": {
      "text/html": [
       "<div>\n",
       "<style scoped>\n",
       "    .dataframe tbody tr th:only-of-type {\n",
       "        vertical-align: middle;\n",
       "    }\n",
       "\n",
       "    .dataframe tbody tr th {\n",
       "        vertical-align: top;\n",
       "    }\n",
       "\n",
       "    .dataframe thead th {\n",
       "        text-align: right;\n",
       "    }\n",
       "</style>\n",
       "<table border=\"1\" class=\"dataframe\">\n",
       "  <thead>\n",
       "    <tr style=\"text-align: right;\">\n",
       "      <th></th>\n",
       "      <th>StockCode</th>\n",
       "      <th>Description</th>\n",
       "      <th>Quantity</th>\n",
       "      <th>InvoiceDate</th>\n",
       "      <th>UnitPrice</th>\n",
       "      <th>CustomerID</th>\n",
       "      <th>Country</th>\n",
       "      <th>Weekday</th>\n",
       "      <th>Invoice_Date</th>\n",
       "      <th>Invoice_Time</th>\n",
       "      <th>Revenue</th>\n",
       "    </tr>\n",
       "    <tr>\n",
       "      <th>InvoiceNo</th>\n",
       "      <th></th>\n",
       "      <th></th>\n",
       "      <th></th>\n",
       "      <th></th>\n",
       "      <th></th>\n",
       "      <th></th>\n",
       "      <th></th>\n",
       "      <th></th>\n",
       "      <th></th>\n",
       "      <th></th>\n",
       "      <th></th>\n",
       "    </tr>\n",
       "  </thead>\n",
       "  <tbody>\n",
       "    <tr>\n",
       "      <th>536365</th>\n",
       "      <td>85123A</td>\n",
       "      <td>WHITE HANGING HEART T-LIGHT HOLDER</td>\n",
       "      <td>6</td>\n",
       "      <td>2010-12-01 08:26:00</td>\n",
       "      <td>2.55</td>\n",
       "      <td>17850.0</td>\n",
       "      <td>United Kingdom</td>\n",
       "      <td>Wednesday</td>\n",
       "      <td>2010-12-01</td>\n",
       "      <td>08:26:00</td>\n",
       "      <td>15.30</td>\n",
       "    </tr>\n",
       "    <tr>\n",
       "      <th>536365</th>\n",
       "      <td>71053</td>\n",
       "      <td>WHITE METAL LANTERN</td>\n",
       "      <td>6</td>\n",
       "      <td>2010-12-01 08:26:00</td>\n",
       "      <td>3.39</td>\n",
       "      <td>17850.0</td>\n",
       "      <td>United Kingdom</td>\n",
       "      <td>Wednesday</td>\n",
       "      <td>2010-12-01</td>\n",
       "      <td>08:26:00</td>\n",
       "      <td>20.34</td>\n",
       "    </tr>\n",
       "    <tr>\n",
       "      <th>536365</th>\n",
       "      <td>84406B</td>\n",
       "      <td>CREAM CUPID HEARTS COAT HANGER</td>\n",
       "      <td>8</td>\n",
       "      <td>2010-12-01 08:26:00</td>\n",
       "      <td>2.75</td>\n",
       "      <td>17850.0</td>\n",
       "      <td>United Kingdom</td>\n",
       "      <td>Wednesday</td>\n",
       "      <td>2010-12-01</td>\n",
       "      <td>08:26:00</td>\n",
       "      <td>22.00</td>\n",
       "    </tr>\n",
       "    <tr>\n",
       "      <th>536365</th>\n",
       "      <td>84029G</td>\n",
       "      <td>KNITTED UNION FLAG HOT WATER BOTTLE</td>\n",
       "      <td>6</td>\n",
       "      <td>2010-12-01 08:26:00</td>\n",
       "      <td>3.39</td>\n",
       "      <td>17850.0</td>\n",
       "      <td>United Kingdom</td>\n",
       "      <td>Wednesday</td>\n",
       "      <td>2010-12-01</td>\n",
       "      <td>08:26:00</td>\n",
       "      <td>20.34</td>\n",
       "    </tr>\n",
       "    <tr>\n",
       "      <th>536365</th>\n",
       "      <td>84029E</td>\n",
       "      <td>RED WOOLLY HOTTIE WHITE HEART.</td>\n",
       "      <td>6</td>\n",
       "      <td>2010-12-01 08:26:00</td>\n",
       "      <td>3.39</td>\n",
       "      <td>17850.0</td>\n",
       "      <td>United Kingdom</td>\n",
       "      <td>Wednesday</td>\n",
       "      <td>2010-12-01</td>\n",
       "      <td>08:26:00</td>\n",
       "      <td>20.34</td>\n",
       "    </tr>\n",
       "  </tbody>\n",
       "</table>\n",
       "</div>"
      ],
      "text/plain": [
       "          StockCode                          Description  Quantity  \\\n",
       "InvoiceNo                                                            \n",
       "536365       85123A   WHITE HANGING HEART T-LIGHT HOLDER         6   \n",
       "536365        71053                  WHITE METAL LANTERN         6   \n",
       "536365       84406B       CREAM CUPID HEARTS COAT HANGER         8   \n",
       "536365       84029G  KNITTED UNION FLAG HOT WATER BOTTLE         6   \n",
       "536365       84029E       RED WOOLLY HOTTIE WHITE HEART.         6   \n",
       "\n",
       "                  InvoiceDate  UnitPrice  CustomerID         Country  \\\n",
       "InvoiceNo                                                              \n",
       "536365    2010-12-01 08:26:00       2.55     17850.0  United Kingdom   \n",
       "536365    2010-12-01 08:26:00       3.39     17850.0  United Kingdom   \n",
       "536365    2010-12-01 08:26:00       2.75     17850.0  United Kingdom   \n",
       "536365    2010-12-01 08:26:00       3.39     17850.0  United Kingdom   \n",
       "536365    2010-12-01 08:26:00       3.39     17850.0  United Kingdom   \n",
       "\n",
       "             Weekday Invoice_Date Invoice_Time  Revenue  \n",
       "InvoiceNo                                                \n",
       "536365     Wednesday   2010-12-01     08:26:00    15.30  \n",
       "536365     Wednesday   2010-12-01     08:26:00    20.34  \n",
       "536365     Wednesday   2010-12-01     08:26:00    22.00  \n",
       "536365     Wednesday   2010-12-01     08:26:00    20.34  \n",
       "536365     Wednesday   2010-12-01     08:26:00    20.34  "
      ]
     },
     "execution_count": 47,
     "metadata": {},
     "output_type": "execute_result"
    }
   ],
   "source": [
    "#Revenue per day ,  per month\n",
    "data['Revenue'] = data['Quantity'] * data['UnitPrice']\n",
    "data.head()"
   ]
  },
  {
   "cell_type": "code",
   "execution_count": 48,
   "id": "98b00715-eaa2-48b3-86f7-235d76ce6b90",
   "metadata": {},
   "outputs": [
    {
     "data": {
      "text/plain": [
       "Invoice_Date\n",
       "2010-12-01    46051.26\n",
       "2010-12-02    45775.43\n",
       "2010-12-03    22598.46\n",
       "2010-12-05    31380.60\n",
       "2010-12-06    30465.08\n",
       "                ...   \n",
       "2011-12-05    56634.53\n",
       "2011-12-06    43659.20\n",
       "2011-12-07    68991.27\n",
       "2011-12-08    49442.19\n",
       "2011-12-09    15560.21\n",
       "Name: Revenue, Length: 305, dtype: float64"
      ]
     },
     "execution_count": 48,
     "metadata": {},
     "output_type": "execute_result"
    }
   ],
   "source": [
    "#Revenue each day\n",
    "revenue_each_day = data.groupby(by = 'Invoice_Date')['Revenue'].sum()\n",
    "revenue_each_day"
   ]
  },
  {
   "cell_type": "code",
   "execution_count": 49,
   "id": "83bc3e5e-5b43-43d2-9e58-baaa87126bc7",
   "metadata": {},
   "outputs": [
    {
     "data": {
      "text/plain": [
       "Month\n",
       "1      475074.380\n",
       "2      436546.150\n",
       "3      579964.610\n",
       "4      426047.851\n",
       "5      648251.080\n",
       "6      608013.160\n",
       "7      574238.481\n",
       "8      616368.000\n",
       "9      931440.372\n",
       "10     974603.590\n",
       "11    1132407.740\n",
       "12     897110.400\n",
       "Name: Revenue, dtype: float64"
      ]
     },
     "execution_count": 49,
     "metadata": {},
     "output_type": "execute_result"
    }
   ],
   "source": [
    "#Revenue each month\n",
    "data['Invoice_Date'] = pd.to_datetime(data['Invoice_Date'])\n",
    "data['Month'] = data['Invoice_Date'].dt.month\n",
    "revenue_each_month = data.groupby(by = 'Month')['Revenue'].sum()\n",
    "revenue_each_month"
   ]
  },
  {
   "cell_type": "code",
   "execution_count": 50,
   "id": "9dc5a266-f639-440f-8be6-86d8abd9f5c4",
   "metadata": {},
   "outputs": [],
   "source": [
    "import matplotlib.pyplot as plt"
   ]
  },
  {
   "cell_type": "code",
   "execution_count": 51,
   "id": "b0ad28fa-bb22-4bcc-9547-21571d90b694",
   "metadata": {},
   "outputs": [
    {
     "data": {
      "text/plain": [
       "[<matplotlib.lines.Line2D at 0x17cde8b90>]"
      ]
     },
     "execution_count": 51,
     "metadata": {},
     "output_type": "execute_result"
    },
    {
     "data": {
      "image/png": "[encoded data removed]",
      "text/plain": [
       "<Figure size 640x480 with 1 Axes>"
      ]
     },
     "metadata": {},
     "output_type": "display_data"
    }
   ],
   "source": [
    "plt.plot(revenue_each_month)"
   ]
  },
  {
   "cell_type": "code",
   "execution_count": 52,
   "id": "905daad3-6383-472e-947d-5f1dec50ccbb",
   "metadata": {},
   "outputs": [
    {
     "data": {
      "image/png": "[encoded data removed]",
      "text/plain": [
       "<Figure size 1200x600 with 1 Axes>"
      ]
     },
     "metadata": {},
     "output_type": "display_data"
    }
   ],
   "source": [
    "plt.figure(figsize=(12,6))\n",
    "plt.bar(revenue_each_month.index.astype(str), revenue_each_month.values)\n",
    "plt.title('Monthly Revenue')\n",
    "plt.xlabel('Month')\n",
    "plt.ylabel('Revenue')\n",
    "plt.show()"
   ]
  },
  {
   "cell_type": "markdown",
   "id": "21d6d63b-00dd-4bfc-9103-a5d3d3b05963",
   "metadata": {},
   "source": [
    "**November** is the month where the Revenue is the most."
   ]
  },
  {
   "cell_type": "markdown",
   "id": "49a35777-24eb-460e-8da1-3949b1ba8e73",
   "metadata": {},
   "source": [
    "## Section 2.2: Number of Orders Over Time\n",
    "\n",
    "In this section, we analyze how many orders were placed each day throughout the dataset. Understanding order volume trends helps identify busy periods, seasonal effects, and customer buying behavior.\n",
    "\n",
    "### Steps:\n",
    "1. Extract the date part from the timestamp.\n",
    "2. Count unique orders (`InvoiceNo`) per day.\n",
    "3. Visualize daily order counts.\n",
    "4. Smooth the daily fluctuations using a 7-day moving average."
   ]
  },
  {
   "cell_type": "code",
   "execution_count": 55,
   "id": "e3488d91-39ab-4bf8-8d86-01c371d2bfd8",
   "metadata": {},
   "outputs": [
    {
     "name": "stderr",
     "output_type": "stream",
     "text": [
      "/var/folders/gz/6j4twhy16mxbtt7v_qsp_77r0000gn/T/ipykernel_67526/2525182238.py:1: DeprecationWarning: DataFrameGroupBy.apply operated on the grouping columns. This behavior is deprecated, and in a future version of pandas the grouping columns will be excluded from the operation. Either pass `include_groups=False` to exclude the groupings or explicitly select the grouping columns after groupby to silence this warning.\n",
      "  orders_per_day = data.groupby(by = 'Invoice_Date').apply(lambda x: x.index.nunique())\n"
     ]
    },
    {
     "data": {
      "text/plain": [
       "Invoice_Date\n",
       "2010-12-01    127\n",
       "2010-12-02    160\n",
       "2010-12-03     64\n",
       "2010-12-05     94\n",
       "2010-12-06    111\n",
       "             ... \n",
       "2011-12-05    130\n",
       "2011-12-06    141\n",
       "2011-12-07    117\n",
       "2011-12-08    133\n",
       "2011-12-09     46\n",
       "Length: 305, dtype: int64"
      ]
     },
     "execution_count": 55,
     "metadata": {},
     "output_type": "execute_result"
    }
   ],
   "source": [
    "orders_per_day = data.groupby(by = 'Invoice_Date').apply(lambda x: x.index.nunique())\n",
    "orders_per_day"
   ]
  },
  {
   "cell_type": "code",
   "execution_count": 56,
   "id": "44d540da-90a4-4a2c-93ea-85d08317222c",
   "metadata": {},
   "outputs": [
    {
     "name": "stderr",
     "output_type": "stream",
     "text": [
      "/var/folders/gz/6j4twhy16mxbtt7v_qsp_77r0000gn/T/ipykernel_67526/2436836540.py:1: DeprecationWarning: DataFrameGroupBy.apply operated on the grouping columns. This behavior is deprecated, and in a future version of pandas the grouping columns will be excluded from the operation. Either pass `include_groups=False` to exclude the groupings or explicitly select the grouping columns after groupby to silence this warning.\n",
      "  orders_per_month = data.groupby(by = 'Month').apply(lambda x: x.index.nunique())\n"
     ]
    },
    {
     "data": {
      "text/plain": [
       "Month\n",
       "1     1236\n",
       "2     1202\n",
       "3     1619\n",
       "4     1384\n",
       "5     1849\n",
       "6     1707\n",
       "7     1593\n",
       "8     1544\n",
       "9     2078\n",
       "10    2263\n",
       "11    3086\n",
       "12    2629\n",
       "dtype: int64"
      ]
     },
     "execution_count": 56,
     "metadata": {},
     "output_type": "execute_result"
    }
   ],
   "source": [
    "orders_per_month = data.groupby(by = 'Month').apply(lambda x: x.index.nunique())\n",
    "orders_per_month"
   ]
  },
  {
   "cell_type": "code",
   "execution_count": 57,
   "id": "7d1739a1-78c6-4687-8079-938c1b2374c6",
   "metadata": {},
   "outputs": [
    {
     "data": {
      "image/png": "[encoded data removed]",
      "text/plain": [
       "<Figure size 1200x600 with 1 Axes>"
      ]
     },
     "metadata": {},
     "output_type": "display_data"
    },
    {
     "data": {
      "image/png": "[encoded data removed]",
      "text/plain": [
       "<Figure size 1200x600 with 1 Axes>"
      ]
     },
     "metadata": {},
     "output_type": "display_data"
    }
   ],
   "source": [
    "orders_per_month.plot(kind='bar', figsize=(12,6))\n",
    "plt.title('Number of Orders per Month', fontsize=14)\n",
    "plt.xlabel('Month')\n",
    "plt.ylabel('Number of Orders')\n",
    "plt.xticks(rotation=45)\n",
    "plt.grid(axis='y')\n",
    "plt.tight_layout()\n",
    "plt.show()\n",
    "\n",
    "\n",
    "\n",
    "plt.figure(figsize=(12,6))\n",
    "plt.plot(orders_per_day.rolling(7).mean(), color='orange')  # 7-day rolling average\n",
    "plt.title('Number of Orders per Day (Smoothed)', fontsize=14)\n",
    "plt.xlabel('Date')\n",
    "plt.ylabel('Number of Orders')\n",
    "plt.grid(True)\n",
    "plt.tight_layout()\n",
    "plt.show()"
   ]
  },
  {
   "cell_type": "markdown",
   "id": "a3cb66aa-3c66-4dca-9fdc-c6f8105a839c",
   "metadata": {},
   "source": [
    "### 3.1 Top-Selling Products by Quantity\n",
    "\n",
    "🧠 What are we analyzing?\n",
    "\n",
    "We are identifying the products with the highest total quantity sold. This helps understand customer demand and inventory planning.\n",
    "\n",
    "📌 Method:\n",
    "\n",
    "We group the dataset by product `Description` and sum the `Quantity`. Then we sort the results in descending order to get the top-selling items.\n",
    "\n",
    "📊 Insights:\n",
    "\n",
    "This helps businesses decide which products to promote, restock, or upsell.\n"
   ]
  },
  {
   "cell_type": "code",
   "execution_count": 59,
   "id": "0868e8e7-0900-450f-9222-e974bae25689",
   "metadata": {},
   "outputs": [
    {
     "data": {
      "text/plain": [
       "StockCode\n",
       "23843     80995\n",
       "23166     77916\n",
       "84077     54319\n",
       "22197     49156\n",
       "85099B    46078\n",
       "85123A    36763\n",
       "84879     35263\n",
       "21212     33670\n",
       "23084     27153\n",
       "22492     26076\n",
       "Name: Quantity, dtype: int64"
      ]
     },
     "execution_count": 59,
     "metadata": {},
     "output_type": "execute_result"
    }
   ],
   "source": [
    "# Top selling item by quantity\n",
    "top_selling_item = valid_orders.groupby(by = 'StockCode')['Quantity'].sum().sort_values(ascending = False).head(10)\n",
    "top_selling_item"
   ]
  },
  {
   "cell_type": "code",
   "execution_count": 60,
   "id": "ddd8e955-7042-471a-acaf-e70b347c2e36",
   "metadata": {
    "scrolled": true
   },
   "outputs": [
    {
     "data": {
      "image/png": "[encoded data removed]",
      "text/plain": [
       "<Figure size 640x480 with 1 Axes>"
      ]
     },
     "metadata": {},
     "output_type": "display_data"
    }
   ],
   "source": [
    "top_selling_item.plot(kind = 'bar')\n",
    "plt.tight_layout()\n",
    "plt.show()"
   ]
  },
  {
   "cell_type": "markdown",
   "id": "19a52492-0f3d-4dbf-9cb9-c109d01564d6",
   "metadata": {},
   "source": [
    "### 3.2 Highest Revenue-Generating Products\n",
    "\n",
    "🧠 What are we analyzing?\n",
    "\n",
    "This section identifies the products that contribute the most to the company’s revenue. These insights help the business prioritize profitable items.\n",
    "\n",
    "📌 Method:\n",
    "\n",
    "\n",
    "We first calculate the revenue for each row as `Quantity * UnitPrice`. Then we group by product and sum up the revenue, sorting in descending order.\n",
    "\n",
    "📊 Insights:\n",
    "\n",
    "Top revenue-generating items are crucial for business profitability. This informs marketing and stocking decisions.\n"
   ]
  },
  {
   "cell_type": "code",
   "execution_count": 64,
   "id": "ebd2c4da-60a5-4ca8-9594-d7804ebd2e98",
   "metadata": {},
   "outputs": [
    {
     "data": {
      "text/html": [
       "<div>\n",
       "<style scoped>\n",
       "    .dataframe tbody tr th:only-of-type {\n",
       "        vertical-align: middle;\n",
       "    }\n",
       "\n",
       "    .dataframe tbody tr th {\n",
       "        vertical-align: top;\n",
       "    }\n",
       "\n",
       "    .dataframe thead th {\n",
       "        text-align: right;\n",
       "    }\n",
       "</style>\n",
       "<table border=\"1\" class=\"dataframe\">\n",
       "  <thead>\n",
       "    <tr style=\"text-align: right;\">\n",
       "      <th></th>\n",
       "      <th>Revenue</th>\n",
       "      <th>Description</th>\n",
       "    </tr>\n",
       "    <tr>\n",
       "      <th>StockCode</th>\n",
       "      <th></th>\n",
       "      <th></th>\n",
       "    </tr>\n",
       "  </thead>\n",
       "  <tbody>\n",
       "    <tr>\n",
       "      <th>23843</th>\n",
       "      <td>168469.60</td>\n",
       "      <td>PAPER CRAFT , LITTLE BIRDIE</td>\n",
       "    </tr>\n",
       "    <tr>\n",
       "      <th>22423</th>\n",
       "      <td>142264.75</td>\n",
       "      <td>REGENCY CAKESTAND 3 TIERREGENCY CAKESTAND 3 TI...</td>\n",
       "    </tr>\n",
       "    <tr>\n",
       "      <th>85123A</th>\n",
       "      <td>100547.45</td>\n",
       "      <td>WHITE HANGING HEART T-LIGHT HOLDERWHITE HANGIN...</td>\n",
       "    </tr>\n",
       "    <tr>\n",
       "      <th>85099B</th>\n",
       "      <td>85040.54</td>\n",
       "      <td>JUMBO BAG RED RETROSPOTJUMBO BAG RED RETROSPOT...</td>\n",
       "    </tr>\n",
       "    <tr>\n",
       "      <th>23166</th>\n",
       "      <td>81416.73</td>\n",
       "      <td>MEDIUM CERAMIC TOP STORAGE JARMEDIUM CERAMIC T...</td>\n",
       "    </tr>\n",
       "    <tr>\n",
       "      <th>POST</th>\n",
       "      <td>77785.96</td>\n",
       "      <td>POSTAGEPOSTAGEPOSTAGEPOSTAGEPOSTAGEPOSTAGEPOST...</td>\n",
       "    </tr>\n",
       "    <tr>\n",
       "      <th>47566</th>\n",
       "      <td>68785.23</td>\n",
       "      <td>PARTY BUNTINGPARTY BUNTINGPARTY BUNTINGPARTY B...</td>\n",
       "    </tr>\n",
       "    <tr>\n",
       "      <th>84879</th>\n",
       "      <td>56413.03</td>\n",
       "      <td>ASSORTED COLOUR BIRD ORNAMENTASSORTED COLOUR B...</td>\n",
       "    </tr>\n",
       "    <tr>\n",
       "      <th>M</th>\n",
       "      <td>53419.93</td>\n",
       "      <td>ManualManualManualManualManualManualManualManu...</td>\n",
       "    </tr>\n",
       "    <tr>\n",
       "      <th>23084</th>\n",
       "      <td>51251.24</td>\n",
       "      <td>RABBIT NIGHT LIGHTRABBIT NIGHT LIGHTRABBIT NIG...</td>\n",
       "    </tr>\n",
       "  </tbody>\n",
       "</table>\n",
       "</div>"
      ],
      "text/plain": [
       "             Revenue                                        Description\n",
       "StockCode                                                              \n",
       "23843      168469.60                        PAPER CRAFT , LITTLE BIRDIE\n",
       "22423      142264.75  REGENCY CAKESTAND 3 TIERREGENCY CAKESTAND 3 TI...\n",
       "85123A     100547.45  WHITE HANGING HEART T-LIGHT HOLDERWHITE HANGIN...\n",
       "85099B      85040.54  JUMBO BAG RED RETROSPOTJUMBO BAG RED RETROSPOT...\n",
       "23166       81416.73  MEDIUM CERAMIC TOP STORAGE JARMEDIUM CERAMIC T...\n",
       "POST        77785.96  POSTAGEPOSTAGEPOSTAGEPOSTAGEPOSTAGEPOSTAGEPOST...\n",
       "47566       68785.23  PARTY BUNTINGPARTY BUNTINGPARTY BUNTINGPARTY B...\n",
       "84879       56413.03  ASSORTED COLOUR BIRD ORNAMENTASSORTED COLOUR B...\n",
       "M           53419.93  ManualManualManualManualManualManualManualManu...\n",
       "23084       51251.24  RABBIT NIGHT LIGHTRABBIT NIGHT LIGHTRABBIT NIG..."
      ]
     },
     "execution_count": 64,
     "metadata": {},
     "output_type": "execute_result"
    }
   ],
   "source": [
    "#Highest Revenue-Generating Products\n",
    "top_revenue_products = valid_orders.groupby(by = 'StockCode')[['Revenue','Description']].sum().sort_values(by = 'Revenue',ascending = False).head(10)\n",
    "top_revenue_products"
   ]
  },
  {
   "cell_type": "code",
   "execution_count": 65,
   "id": "92bd4b78-1d94-492f-b3d4-1ec724923a94",
   "metadata": {},
   "outputs": [
    {
     "data": {
      "image/png": "[encoded data removed]",
      "text/plain": [
       "<Figure size 1000x600 with 1 Axes>"
      ]
     },
     "metadata": {},
     "output_type": "display_data"
    }
   ],
   "source": [
    "top_revenue_products.plot(kind='barh', figsize=(10,6), title='Top 10 Products by Revenue', xlabel='Revenue', ylabel='Product', color='blue')\n",
    "plt.tight_layout()\n",
    "plt.show()"
   ]
  },
  {
   "cell_type": "markdown",
   "id": "a823688f-7563-4708-a29d-6a9c46d1c105",
   "metadata": {},
   "source": [
    "### 3.3 Most Canceled Products\n",
    "\n",
    "🧠 What are we analyzing?\n",
    "\n",
    "This section highlights the products that were canceled most frequently. High cancellation rates can signal issues like product defects, incorrect listings, or logistic problems.\n",
    "\n",
    "📌 Method:\n",
    "\n",
    "We filter for orders with negative quantities and group by product to total the number of cancellations. This helps identify which products may need closer inspection.\n",
    "\n",
    "📊 Insights:\n",
    "\n",
    "These insights can guide product quality checks or inform customer service and supply chain improvements.\n"
   ]
  },
  {
   "cell_type": "code",
   "execution_count": 67,
   "id": "f99556fc-64dd-437f-86c2-4bd6be16c9c0",
   "metadata": {},
   "outputs": [
    {
     "data": {
      "text/html": [
       "<div>\n",
       "<style scoped>\n",
       "    .dataframe tbody tr th:only-of-type {\n",
       "        vertical-align: middle;\n",
       "    }\n",
       "\n",
       "    .dataframe tbody tr th {\n",
       "        vertical-align: top;\n",
       "    }\n",
       "\n",
       "    .dataframe thead th {\n",
       "        text-align: right;\n",
       "    }\n",
       "</style>\n",
       "<table border=\"1\" class=\"dataframe\">\n",
       "  <thead>\n",
       "    <tr style=\"text-align: right;\">\n",
       "      <th></th>\n",
       "      <th>StockCode</th>\n",
       "      <th>Description</th>\n",
       "      <th>Quantity</th>\n",
       "      <th>InvoiceDate</th>\n",
       "      <th>UnitPrice</th>\n",
       "      <th>CustomerID</th>\n",
       "      <th>Country</th>\n",
       "      <th>Weekday</th>\n",
       "      <th>Invoice_Date</th>\n",
       "      <th>Invoice_Time</th>\n",
       "      <th>Revenue</th>\n",
       "      <th>Month</th>\n",
       "    </tr>\n",
       "    <tr>\n",
       "      <th>InvoiceNo</th>\n",
       "      <th></th>\n",
       "      <th></th>\n",
       "      <th></th>\n",
       "      <th></th>\n",
       "      <th></th>\n",
       "      <th></th>\n",
       "      <th></th>\n",
       "      <th></th>\n",
       "      <th></th>\n",
       "      <th></th>\n",
       "      <th></th>\n",
       "      <th></th>\n",
       "    </tr>\n",
       "  </thead>\n",
       "  <tbody>\n",
       "    <tr>\n",
       "      <th>536365</th>\n",
       "      <td>85123A</td>\n",
       "      <td>WHITE HANGING HEART T-LIGHT HOLDER</td>\n",
       "      <td>6</td>\n",
       "      <td>2010-12-01 08:26:00</td>\n",
       "      <td>2.55</td>\n",
       "      <td>17850.0</td>\n",
       "      <td>United Kingdom</td>\n",
       "      <td>Wednesday</td>\n",
       "      <td>2010-12-01</td>\n",
       "      <td>08:26:00</td>\n",
       "      <td>15.3</td>\n",
       "      <td>12</td>\n",
       "    </tr>\n",
       "  </tbody>\n",
       "</table>\n",
       "</div>"
      ],
      "text/plain": [
       "          StockCode                         Description  Quantity  \\\n",
       "InvoiceNo                                                           \n",
       "536365       85123A  WHITE HANGING HEART T-LIGHT HOLDER         6   \n",
       "\n",
       "                  InvoiceDate  UnitPrice  CustomerID         Country  \\\n",
       "InvoiceNo                                                              \n",
       "536365    2010-12-01 08:26:00       2.55     17850.0  United Kingdom   \n",
       "\n",
       "             Weekday Invoice_Date Invoice_Time  Revenue  Month  \n",
       "InvoiceNo                                                       \n",
       "536365     Wednesday   2010-12-01     08:26:00     15.3     12  "
      ]
     },
     "execution_count": 67,
     "metadata": {},
     "output_type": "execute_result"
    }
   ],
   "source": [
    "data.head(1)"
   ]
  },
  {
   "cell_type": "code",
   "execution_count": 68,
   "id": "d7afd46f-8859-44d5-8cb6-3be7a84c6d13",
   "metadata": {},
   "outputs": [
    {
     "data": {
      "text/html": [
       "<div>\n",
       "<style scoped>\n",
       "    .dataframe tbody tr th:only-of-type {\n",
       "        vertical-align: middle;\n",
       "    }\n",
       "\n",
       "    .dataframe tbody tr th {\n",
       "        vertical-align: top;\n",
       "    }\n",
       "\n",
       "    .dataframe thead th {\n",
       "        text-align: right;\n",
       "    }\n",
       "</style>\n",
       "<table border=\"1\" class=\"dataframe\">\n",
       "  <thead>\n",
       "    <tr style=\"text-align: right;\">\n",
       "      <th></th>\n",
       "      <th>StockCode</th>\n",
       "      <th>Description</th>\n",
       "      <th>Quantity</th>\n",
       "      <th>InvoiceDate</th>\n",
       "      <th>UnitPrice</th>\n",
       "      <th>CustomerID</th>\n",
       "      <th>Country</th>\n",
       "      <th>Weekday</th>\n",
       "      <th>Invoice_Date</th>\n",
       "      <th>Invoice_Time</th>\n",
       "      <th>Revenue</th>\n",
       "    </tr>\n",
       "    <tr>\n",
       "      <th>InvoiceNo</th>\n",
       "      <th></th>\n",
       "      <th></th>\n",
       "      <th></th>\n",
       "      <th></th>\n",
       "      <th></th>\n",
       "      <th></th>\n",
       "      <th></th>\n",
       "      <th></th>\n",
       "      <th></th>\n",
       "      <th></th>\n",
       "      <th></th>\n",
       "    </tr>\n",
       "  </thead>\n",
       "  <tbody>\n",
       "    <tr>\n",
       "      <th>C536379</th>\n",
       "      <td>D</td>\n",
       "      <td>Discount</td>\n",
       "      <td>-1</td>\n",
       "      <td>2010-12-01 09:41:00</td>\n",
       "      <td>27.50</td>\n",
       "      <td>14527.0</td>\n",
       "      <td>United Kingdom</td>\n",
       "      <td>Wednesday</td>\n",
       "      <td>2010-12-01</td>\n",
       "      <td>09:41:00</td>\n",
       "      <td>-27.50</td>\n",
       "    </tr>\n",
       "    <tr>\n",
       "      <th>C536383</th>\n",
       "      <td>35004C</td>\n",
       "      <td>SET OF 3 COLOURED  FLYING DUCKS</td>\n",
       "      <td>-1</td>\n",
       "      <td>2010-12-01 09:49:00</td>\n",
       "      <td>4.65</td>\n",
       "      <td>15311.0</td>\n",
       "      <td>United Kingdom</td>\n",
       "      <td>Wednesday</td>\n",
       "      <td>2010-12-01</td>\n",
       "      <td>09:49:00</td>\n",
       "      <td>-4.65</td>\n",
       "    </tr>\n",
       "    <tr>\n",
       "      <th>C536391</th>\n",
       "      <td>22553</td>\n",
       "      <td>PLASTERS IN TIN SKULLS</td>\n",
       "      <td>-24</td>\n",
       "      <td>2010-12-01 10:24:00</td>\n",
       "      <td>1.65</td>\n",
       "      <td>17548.0</td>\n",
       "      <td>United Kingdom</td>\n",
       "      <td>Wednesday</td>\n",
       "      <td>2010-12-01</td>\n",
       "      <td>10:24:00</td>\n",
       "      <td>-39.60</td>\n",
       "    </tr>\n",
       "    <tr>\n",
       "      <th>C536391</th>\n",
       "      <td>22557</td>\n",
       "      <td>PLASTERS IN TIN VINTAGE PAISLEY</td>\n",
       "      <td>-12</td>\n",
       "      <td>2010-12-01 10:24:00</td>\n",
       "      <td>1.65</td>\n",
       "      <td>17548.0</td>\n",
       "      <td>United Kingdom</td>\n",
       "      <td>Wednesday</td>\n",
       "      <td>2010-12-01</td>\n",
       "      <td>10:24:00</td>\n",
       "      <td>-19.80</td>\n",
       "    </tr>\n",
       "    <tr>\n",
       "      <th>C536391</th>\n",
       "      <td>21980</td>\n",
       "      <td>PACK OF 12 RED RETROSPOT TISSUES</td>\n",
       "      <td>-24</td>\n",
       "      <td>2010-12-01 10:24:00</td>\n",
       "      <td>0.29</td>\n",
       "      <td>17548.0</td>\n",
       "      <td>United Kingdom</td>\n",
       "      <td>Wednesday</td>\n",
       "      <td>2010-12-01</td>\n",
       "      <td>10:24:00</td>\n",
       "      <td>-6.96</td>\n",
       "    </tr>\n",
       "    <tr>\n",
       "      <th>...</th>\n",
       "      <td>...</td>\n",
       "      <td>...</td>\n",
       "      <td>...</td>\n",
       "      <td>...</td>\n",
       "      <td>...</td>\n",
       "      <td>...</td>\n",
       "      <td>...</td>\n",
       "      <td>...</td>\n",
       "      <td>...</td>\n",
       "      <td>...</td>\n",
       "      <td>...</td>\n",
       "    </tr>\n",
       "    <tr>\n",
       "      <th>C581490</th>\n",
       "      <td>23144</td>\n",
       "      <td>ZINC T-LIGHT HOLDER STARS SMALL</td>\n",
       "      <td>-11</td>\n",
       "      <td>2011-12-09 09:57:00</td>\n",
       "      <td>0.83</td>\n",
       "      <td>14397.0</td>\n",
       "      <td>United Kingdom</td>\n",
       "      <td>Friday</td>\n",
       "      <td>2011-12-09</td>\n",
       "      <td>09:57:00</td>\n",
       "      <td>-9.13</td>\n",
       "    </tr>\n",
       "    <tr>\n",
       "      <th>C581499</th>\n",
       "      <td>M</td>\n",
       "      <td>Manual</td>\n",
       "      <td>-1</td>\n",
       "      <td>2011-12-09 10:28:00</td>\n",
       "      <td>224.69</td>\n",
       "      <td>15498.0</td>\n",
       "      <td>United Kingdom</td>\n",
       "      <td>Friday</td>\n",
       "      <td>2011-12-09</td>\n",
       "      <td>10:28:00</td>\n",
       "      <td>-224.69</td>\n",
       "    </tr>\n",
       "    <tr>\n",
       "      <th>C581568</th>\n",
       "      <td>21258</td>\n",
       "      <td>VICTORIAN SEWING BOX LARGE</td>\n",
       "      <td>-5</td>\n",
       "      <td>2011-12-09 11:57:00</td>\n",
       "      <td>10.95</td>\n",
       "      <td>15311.0</td>\n",
       "      <td>United Kingdom</td>\n",
       "      <td>Friday</td>\n",
       "      <td>2011-12-09</td>\n",
       "      <td>11:57:00</td>\n",
       "      <td>-54.75</td>\n",
       "    </tr>\n",
       "    <tr>\n",
       "      <th>C581569</th>\n",
       "      <td>84978</td>\n",
       "      <td>HANGING HEART JAR T-LIGHT HOLDER</td>\n",
       "      <td>-1</td>\n",
       "      <td>2011-12-09 11:58:00</td>\n",
       "      <td>1.25</td>\n",
       "      <td>17315.0</td>\n",
       "      <td>United Kingdom</td>\n",
       "      <td>Friday</td>\n",
       "      <td>2011-12-09</td>\n",
       "      <td>11:58:00</td>\n",
       "      <td>-1.25</td>\n",
       "    </tr>\n",
       "    <tr>\n",
       "      <th>C581569</th>\n",
       "      <td>20979</td>\n",
       "      <td>36 PENCILS TUBE RED RETROSPOT</td>\n",
       "      <td>-5</td>\n",
       "      <td>2011-12-09 11:58:00</td>\n",
       "      <td>1.25</td>\n",
       "      <td>17315.0</td>\n",
       "      <td>United Kingdom</td>\n",
       "      <td>Friday</td>\n",
       "      <td>2011-12-09</td>\n",
       "      <td>11:58:00</td>\n",
       "      <td>-6.25</td>\n",
       "    </tr>\n",
       "  </tbody>\n",
       "</table>\n",
       "<p>8905 rows × 11 columns</p>\n",
       "</div>"
      ],
      "text/plain": [
       "          StockCode                        Description  Quantity  \\\n",
       "InvoiceNo                                                          \n",
       "C536379           D                           Discount        -1   \n",
       "C536383      35004C    SET OF 3 COLOURED  FLYING DUCKS        -1   \n",
       "C536391       22553             PLASTERS IN TIN SKULLS       -24   \n",
       "C536391       22557   PLASTERS IN TIN VINTAGE PAISLEY        -12   \n",
       "C536391       21980  PACK OF 12 RED RETROSPOT TISSUES        -24   \n",
       "...             ...                                ...       ...   \n",
       "C581490       23144    ZINC T-LIGHT HOLDER STARS SMALL       -11   \n",
       "C581499           M                             Manual        -1   \n",
       "C581568       21258         VICTORIAN SEWING BOX LARGE        -5   \n",
       "C581569       84978   HANGING HEART JAR T-LIGHT HOLDER        -1   \n",
       "C581569       20979      36 PENCILS TUBE RED RETROSPOT        -5   \n",
       "\n",
       "                  InvoiceDate  UnitPrice  CustomerID         Country  \\\n",
       "InvoiceNo                                                              \n",
       "C536379   2010-12-01 09:41:00      27.50     14527.0  United Kingdom   \n",
       "C536383   2010-12-01 09:49:00       4.65     15311.0  United Kingdom   \n",
       "C536391   2010-12-01 10:24:00       1.65     17548.0  United Kingdom   \n",
       "C536391   2010-12-01 10:24:00       1.65     17548.0  United Kingdom   \n",
       "C536391   2010-12-01 10:24:00       0.29     17548.0  United Kingdom   \n",
       "...                       ...        ...         ...             ...   \n",
       "C581490   2011-12-09 09:57:00       0.83     14397.0  United Kingdom   \n",
       "C581499   2011-12-09 10:28:00     224.69     15498.0  United Kingdom   \n",
       "C581568   2011-12-09 11:57:00      10.95     15311.0  United Kingdom   \n",
       "C581569   2011-12-09 11:58:00       1.25     17315.0  United Kingdom   \n",
       "C581569   2011-12-09 11:58:00       1.25     17315.0  United Kingdom   \n",
       "\n",
       "             Weekday Invoice_Date Invoice_Time  Revenue  \n",
       "InvoiceNo                                                \n",
       "C536379    Wednesday   2010-12-01     09:41:00   -27.50  \n",
       "C536383    Wednesday   2010-12-01     09:49:00    -4.65  \n",
       "C536391    Wednesday   2010-12-01     10:24:00   -39.60  \n",
       "C536391    Wednesday   2010-12-01     10:24:00   -19.80  \n",
       "C536391    Wednesday   2010-12-01     10:24:00    -6.96  \n",
       "...              ...          ...          ...      ...  \n",
       "C581490       Friday   2011-12-09     09:57:00    -9.13  \n",
       "C581499       Friday   2011-12-09     10:28:00  -224.69  \n",
       "C581568       Friday   2011-12-09     11:57:00   -54.75  \n",
       "C581569       Friday   2011-12-09     11:58:00    -1.25  \n",
       "C581569       Friday   2011-12-09     11:58:00    -6.25  \n",
       "\n",
       "[8905 rows x 11 columns]"
      ]
     },
     "execution_count": 68,
     "metadata": {},
     "output_type": "execute_result"
    }
   ],
   "source": [
    "cancelled_orders"
   ]
  },
  {
   "cell_type": "code",
   "execution_count": 69,
   "id": "4a1558a9-7e76-4a38-8fec-5c63c433f2eb",
   "metadata": {},
   "outputs": [
    {
     "data": {
      "text/plain": [
       "StockCode\n",
       "23843     80995\n",
       "23166     74494\n",
       "84347      9367\n",
       "M          3995\n",
       "21108      3150\n",
       "20971      2617\n",
       "85123A     2578\n",
       "21175      2030\n",
       "22920      1527\n",
       "22273      1447\n",
       "Name: Quantity, dtype: int64"
      ]
     },
     "execution_count": 69,
     "metadata": {},
     "output_type": "execute_result"
    }
   ],
   "source": [
    "#Top cancelled product\n",
    "cancelled_product = cancelled_orders.groupby(by = 'StockCode')['Quantity'].sum().abs().sort_values(ascending = False).head(10)\n",
    "cancelled_product"
   ]
  },
  {
   "cell_type": "code",
   "execution_count": 70,
   "id": "820c197e-e8e6-4688-8d4b-71d78f953a6e",
   "metadata": {},
   "outputs": [
    {
     "data": {
      "image/png": "[encoded data removed]",
      "text/plain": [
       "<Figure size 640x480 with 1 Axes>"
      ]
     },
     "metadata": {},
     "output_type": "display_data"
    }
   ],
   "source": [
    "cancelled_product.plot(kind = 'barh', xlabel = 'Quantity of cancelled product', ylabel = 'Product StockCode')\n",
    "plt.tight_layout()\n",
    "plt.show()"
   ]
  },
  {
   "cell_type": "markdown",
   "id": "c8bf8140-478e-46a5-82f0-ce1316905cd8",
   "metadata": {},
   "source": [
    "### 4.1 Top Customers by Revenue\n",
    "\n",
    "🧠 What are we analyzing?\n",
    "\n",
    "We are identifying the customers who have generated the highest revenue for the business. These insights are useful for strategic targeting and understanding customer value.\n",
    "\n",
    "📌 Method:\n",
    "\n",
    "We grouped the dataset by `CustomerID` and summed the total revenue for each customer. The results were sorted to show the top 10 spenders.\n",
    "\n",
    "📊 Insights:\n",
    "\n",
    "The business can consider offering promotions or exclusive deals to these top customers to improve retention and boost loyalty.\n"
   ]
  },
  {
   "cell_type": "code",
   "execution_count": 73,
   "id": "47e5de10-fce0-4a4a-a6e8-c00edff393c7",
   "metadata": {},
   "outputs": [
    {
     "data": {
      "text/plain": [
       "CustomerID\n",
       "14646.0    279489.02\n",
       "18102.0    256438.49\n",
       "17450.0    187482.17\n",
       "14911.0    132572.62\n",
       "12415.0    123725.45\n",
       "14156.0    113384.14\n",
       "17511.0     88125.38\n",
       "16684.0     65892.08\n",
       "13694.0     62653.10\n",
       "15311.0     59419.34\n",
       "Name: Revenue, dtype: float64"
      ]
     },
     "execution_count": 73,
     "metadata": {},
     "output_type": "execute_result"
    }
   ],
   "source": [
    "#4.1 Top Customers by Revenue\n",
    "customers_by_revenue = data.groupby(by = 'CustomerID')['Revenue'].sum().sort_values(ascending = False).head(10)\n",
    "customers_by_revenue"
   ]
  },
  {
   "cell_type": "code",
   "execution_count": 74,
   "id": "ac7164de-9313-46b5-a2d0-93dd2178286f",
   "metadata": {},
   "outputs": [
    {
     "data": {
      "image/png": "[encoded data removed]",
      "text/plain": [
       "<Figure size 640x480 with 1 Axes>"
      ]
     },
     "metadata": {},
     "output_type": "display_data"
    }
   ],
   "source": [
    "customers_by_revenue.plot(kind = 'barh' ,title='Top 10 Customers by Revenue', xlabel = 'Revenue' , ylabel = 'Customer ID')\n",
    "plt.tight_layout()\n",
    "plt.show()"
   ]
  },
  {
   "cell_type": "markdown",
   "id": "87332657-7557-4fc3-bb10-8318b5da2deb",
   "metadata": {},
   "source": [
    "### 4.2 Average Order Value per Customer\n",
    "\n",
    "🧠 What are we analyzing?\n",
    "\n",
    "We are calculating the average amount each customer spends per order. This metric is known as Average Order Value (AOV) and is crucial for understanding purchasing behavior.\n",
    "\n",
    "📌 Method:\n",
    "\n",
    "For each customer, we divided their total revenue by the number of unique invoices (orders) they placed.\n",
    "\n",
    "📊 Insights:\n",
    "\n",
    "Customers with a high AOV may be more responsive to premium offers, while those with a low AOV might benefit from bundles or incentives to increase basket size.\n"
   ]
  },
  {
   "cell_type": "code",
   "execution_count": 76,
   "id": "f138c333-5f0e-4b51-b9e0-e2220e83e468",
   "metadata": {},
   "outputs": [
    {
     "data": {
      "text/plain": [
       "CustomerID\n",
       "12346.0    77183.60\n",
       "12347.0     4310.00\n",
       "12348.0     1797.24\n",
       "12349.0     1757.55\n",
       "12350.0      334.40\n",
       "             ...   \n",
       "18280.0      180.60\n",
       "18281.0       80.82\n",
       "18282.0      178.05\n",
       "18283.0     2045.53\n",
       "18287.0     1837.28\n",
       "Name: Revenue, Length: 4339, dtype: float64"
      ]
     },
     "execution_count": 76,
     "metadata": {},
     "output_type": "execute_result"
    }
   ],
   "source": [
    "valid_orders_reset = valid_orders.reset_index()\n",
    "\n",
    "revenue_per_customer = valid_orders_reset.groupby(by = 'CustomerID')['Revenue'].sum()\n",
    "revenue_per_customer"
   ]
  },
  {
   "cell_type": "code",
   "execution_count": 77,
   "id": "7f97c197-8a04-4dff-883b-65b99f6adf47",
   "metadata": {},
   "outputs": [
    {
     "data": {
      "text/plain": [
       "CustomerID\n",
       "12346.0     1\n",
       "12347.0     7\n",
       "12348.0     4\n",
       "12349.0     1\n",
       "12350.0     1\n",
       "           ..\n",
       "18280.0     1\n",
       "18281.0     1\n",
       "18282.0     2\n",
       "18283.0    16\n",
       "18287.0     3\n",
       "Name: InvoiceNo, Length: 4339, dtype: int64"
      ]
     },
     "execution_count": 77,
     "metadata": {},
     "output_type": "execute_result"
    }
   ],
   "source": [
    "number_of_invoices = valid_orders_reset.groupby(by = 'CustomerID')['InvoiceNo'].nunique()\n",
    "number_of_invoices"
   ]
  },
  {
   "cell_type": "code",
   "execution_count": 78,
   "id": "c813082c-515b-4884-95f9-da2fb7b0e903",
   "metadata": {},
   "outputs": [
    {
     "data": {
      "text/plain": [
       "CustomerID\n",
       "16446.0    84236.250000\n",
       "12346.0    77183.600000\n",
       "15749.0    14844.766667\n",
       "15098.0    13305.500000\n",
       "12357.0     6207.670000\n",
       "12415.0     5948.310952\n",
       "12590.0     4932.130000\n",
       "12688.0     4873.810000\n",
       "12752.0     4366.780000\n",
       "18251.0     4314.720000\n",
       "dtype: float64"
      ]
     },
     "execution_count": 78,
     "metadata": {},
     "output_type": "execute_result"
    }
   ],
   "source": [
    "# Average Order Value = Total Revenue / Number of Orders\n",
    "aov_per_customer = (revenue_per_customer / number_of_invoices).sort_values(ascending=False)\n",
    "\n",
    "# Display top 10 for example\n",
    "aov_per_customer.head(10)"
   ]
  },
  {
   "cell_type": "code",
   "execution_count": 79,
   "id": "d2fe7b9d-bbf8-46bc-9a17-bce1f0632a83",
   "metadata": {},
   "outputs": [
    {
     "data": {
      "image/png": "[encoded data removed]",
      "text/plain": [
       "<Figure size 1000x500 with 1 Axes>"
      ]
     },
     "metadata": {},
     "output_type": "display_data"
    }
   ],
   "source": [
    "aov_per_customer.head(10).plot(kind='bar', figsize=(10,5), title='Top 10 Customers by Average Order Value', color='orange')\n",
    "plt.ylabel('Average Order Value')\n",
    "plt.grid(True)\n",
    "plt.tight_layout()\n",
    "plt.show()"
   ]
  },
  {
   "cell_type": "markdown",
   "id": "4e7b9284-2b18-4346-8fbb-90f5d7462659",
   "metadata": {},
   "source": [
    "### 4.3 Repeat Customers vs One-Time Customers\n",
    "\n",
    "🧠 What are we analyzing?\n",
    "\n",
    "We are identifying how many customers made only one purchase (one-time) and how many came back for more (repeat). This is important for assessing customer loyalty and behavior.\n",
    "\n",
    "📌 Method:\n",
    "\n",
    "We grouped transactions by customer and counted the number of unique invoices. \n",
    "- Customers with more than one invoice were considered **repeat**.\n",
    "- Customers with only one invoice were considered **one-time**.\n",
    "\n",
    "📊 Insights:\n",
    "\n",
    "Understanding this split helps businesses focus on customer retention strategies and improve repeat sales.\n"
   ]
  },
  {
   "cell_type": "code",
   "execution_count": 81,
   "id": "c5f0eacd-11ae-4b05-93fa-81b681ab0253",
   "metadata": {},
   "outputs": [
    {
     "data": {
      "text/plain": [
       "CustomerID\n",
       "12346.0     1\n",
       "12347.0     7\n",
       "12348.0     4\n",
       "12349.0     1\n",
       "12350.0     1\n",
       "           ..\n",
       "18280.0     1\n",
       "18281.0     1\n",
       "18282.0     2\n",
       "18283.0    16\n",
       "18287.0     3\n",
       "Name: InvoiceNo, Length: 4339, dtype: int64"
      ]
     },
     "execution_count": 81,
     "metadata": {},
     "output_type": "execute_result"
    }
   ],
   "source": [
    "number_of_invoices"
   ]
  },
  {
   "cell_type": "code",
   "execution_count": 82,
   "id": "6aa68069-1784-44d1-a301-59d5e63d6eb1",
   "metadata": {},
   "outputs": [
    {
     "data": {
      "text/plain": [
       "CustomerID\n",
       "12347.0     7\n",
       "12348.0     4\n",
       "12352.0     8\n",
       "12356.0     3\n",
       "12358.0     2\n",
       "           ..\n",
       "18272.0     6\n",
       "18273.0     3\n",
       "18282.0     2\n",
       "18283.0    16\n",
       "18287.0     3\n",
       "Name: InvoiceNo, Length: 2845, dtype: int64"
      ]
     },
     "execution_count": 82,
     "metadata": {},
     "output_type": "execute_result"
    }
   ],
   "source": [
    "repeat_customers_ids = number_of_invoices[number_of_invoices > 1]\n",
    "repeat_customers_ids"
   ]
  },
  {
   "cell_type": "code",
   "execution_count": 83,
   "id": "80fe2721-552d-4787-9b22-5f0f1d4aa61e",
   "metadata": {},
   "outputs": [
    {
     "data": {
      "text/plain": [
       "CustomerID\n",
       "12346.0    1\n",
       "12349.0    1\n",
       "12350.0    1\n",
       "12353.0    1\n",
       "12354.0    1\n",
       "          ..\n",
       "18276.0    1\n",
       "18277.0    1\n",
       "18278.0    1\n",
       "18280.0    1\n",
       "18281.0    1\n",
       "Name: InvoiceNo, Length: 1494, dtype: int64"
      ]
     },
     "execution_count": 83,
     "metadata": {},
     "output_type": "execute_result"
    }
   ],
   "source": [
    "one_time_customers_ids = number_of_invoices[number_of_invoices == 1]\n",
    "one_time_customers_ids"
   ]
  },
  {
   "cell_type": "code",
   "execution_count": 84,
   "id": "93fd85a7-7146-48e2-9f38-aed8d08b4888",
   "metadata": {},
   "outputs": [],
   "source": [
    "#Store them as DataFrames for future targeting\n",
    "repeat_customers_df = pd.DataFrame({'CustomerID': repeat_customers_ids})\n",
    "one_time_customers_df = pd.DataFrame({'CustomerID': one_time_customers_ids})"
   ]
  },
  {
   "cell_type": "code",
   "execution_count": 85,
   "id": "d3d25092-65db-4a31-acbc-3f4f87a0b364",
   "metadata": {},
   "outputs": [
    {
     "name": "stdout",
     "output_type": "stream",
     "text": [
      "Repeat Customers: 2845\n",
      "One-Time Customers: 1494\n",
      "Sample Repeat Customer IDs: Series([], Name: InvoiceNo, dtype: int64)\n",
      "Sample One-Time Customer IDs: Series([], Name: InvoiceNo, dtype: int64)\n"
     ]
    },
    {
     "name": "stderr",
     "output_type": "stream",
     "text": [
      "/var/folders/gz/6j4twhy16mxbtt7v_qsp_77r0000gn/T/ipykernel_67526/1392877424.py:5: FutureWarning: The behavior of obj[i:j] with a float-dtype index is deprecated. In a future version, this will be treated as positional instead of label-based. For label-based slicing, use obj.loc[i:j] instead\n",
      "  print(\"Sample Repeat Customer IDs:\", repeat_customers_ids[:5])\n",
      "/var/folders/gz/6j4twhy16mxbtt7v_qsp_77r0000gn/T/ipykernel_67526/1392877424.py:6: FutureWarning: The behavior of obj[i:j] with a float-dtype index is deprecated. In a future version, this will be treated as positional instead of label-based. For label-based slicing, use obj.loc[i:j] instead\n",
      "  print(\"Sample One-Time Customer IDs:\", one_time_customers_ids[:5])\n"
     ]
    }
   ],
   "source": [
    "print(\"Repeat Customers:\", len(repeat_customers_ids))\n",
    "print(\"One-Time Customers:\", len(one_time_customers_ids))\n",
    "\n",
    "# Preview a few IDs\n",
    "print(\"Sample Repeat Customer IDs:\", repeat_customers_ids[:5])\n",
    "print(\"Sample One-Time Customer IDs:\", one_time_customers_ids[:5])"
   ]
  },
  {
   "cell_type": "code",
   "execution_count": 86,
   "id": "04416581-dae2-4e03-8517-bdae2f623bc0",
   "metadata": {},
   "outputs": [
    {
     "data": {
      "text/plain": [
       "<Axes: xlabel='CustomerID'>"
      ]
     },
     "execution_count": 86,
     "metadata": {},
     "output_type": "execute_result"
    },
    {
     "data": {
      "image/png": "[encoded data removed]",
      "text/plain": [
       "<Figure size 640x480 with 1 Axes>"
      ]
     },
     "metadata": {},
     "output_type": "display_data"
    }
   ],
   "source": [
    "repeat_customers_df.plot()"
   ]
  },
  {
   "cell_type": "markdown",
   "id": "01beb88e-337c-4131-b2b4-cbec4eb9aa0c",
   "metadata": {},
   "source": [
    "✅ Use Case Ideas:\n",
    "Use repeat_customers_df to study which products they prefer.\n",
    "\n",
    "Use one_time_customers_df to create a retargeting list.\n",
    "\n",
    "Visualize purchase patterns or average order values per group."
   ]
  },
  {
   "cell_type": "markdown",
   "id": "a408fa78-04fb-41c2-8aaf-1de843584d0a",
   "metadata": {},
   "source": [
    "## ✳️ Section 5: Country-Level Insights\n",
    "\n",
    "### 🧠 What are we trying to do?\n",
    "We want to explore where our customers are located, how much revenue is generated per country, and how many unique customers come from each country.\n",
    "\n",
    "### 🔹 5.1 Revenue by Country\n",
    "We calculated the total revenue per country and plotted the top 10 countries. This helps us understand which geographic markets are most profitable.\n",
    "\n",
    "### 🔹 5.2 Number of Customers per Country\n",
    "We counted the number of unique customers from each country to identify our largest customer bases. This can be useful for market segmentation and targeted marketing.\n"
   ]
  },
  {
   "cell_type": "code",
   "execution_count": 87,
   "id": "5e6c3fab-0faf-47f0-9ecf-33e2fb798b12",
   "metadata": {},
   "outputs": [
    {
     "data": {
      "text/plain": [
       "Country\n",
       "United Kingdom          7283594.804\n",
       "Netherlands              285446.340\n",
       "EIRE                     265262.460\n",
       "Germany                  228660.400\n",
       "France                   208934.310\n",
       "Australia                138453.810\n",
       "Spain                     61558.560\n",
       "Switzerland               56443.950\n",
       "Belgium                   41196.340\n",
       "Sweden                    38367.830\n",
       "Japan                     37416.370\n",
       "Norway                    36165.440\n",
       "Portugal                  33375.840\n",
       "Finland                   22546.080\n",
       "Singapore                 21279.290\n",
       "Channel Islands           20440.540\n",
       "Denmark                   18955.340\n",
       "Italy                     17483.240\n",
       "Cyprus                    13502.850\n",
       "Austria                   10198.680\n",
       "Poland                     7334.650\n",
       "Israel                     7215.840\n",
       "Greece                     4760.520\n",
       "Iceland                    4310.000\n",
       "Canada                     3666.380\n",
       "USA                        3580.390\n",
       "Malta                      2725.590\n",
       "Unspecified                2660.770\n",
       "United Arab Emirates       1902.280\n",
       "Lebanon                    1693.880\n",
       "Lithuania                  1661.060\n",
       "European Community         1300.250\n",
       "Brazil                     1143.600\n",
       "RSA                        1002.310\n",
       "Czech Republic              826.740\n",
       "Bahrain                     548.400\n",
       "Saudi Arabia                145.920\n",
       "Name: Revenue, dtype: float64"
      ]
     },
     "execution_count": 87,
     "metadata": {},
     "output_type": "execute_result"
    }
   ],
   "source": [
    "revenue_per_country = valid_orders.groupby(by = 'Country')['Revenue'].sum().sort_values(ascending = False)\n",
    "revenue_per_country"
   ]
  },
  {
   "cell_type": "code",
   "execution_count": 88,
   "id": "f20d5604-5f66-4b54-8f92-0dde3db43433",
   "metadata": {},
   "outputs": [
    {
     "data": {
      "image/png": "[encoded data removed]",
      "text/plain": [
       "<Figure size 640x480 with 1 Axes>"
      ]
     },
     "metadata": {},
     "output_type": "display_data"
    }
   ],
   "source": [
    "revenue_per_country.head(10).plot(kind = 'barh',title = 'Revenue per Country' ,xlabel = 'Revenue' , ylabel = 'Country')\n",
    "plt.tight_layout()\n",
    "plt.grid(True)\n",
    "plt.show()"
   ]
  },
  {
   "cell_type": "code",
   "execution_count": 89,
   "id": "d9913e87-61e1-44d5-8b2e-8014a20af540",
   "metadata": {},
   "outputs": [
    {
     "data": {
      "text/plain": [
       "Country\n",
       "United Kingdom          3921\n",
       "Germany                   94\n",
       "France                    87\n",
       "Spain                     30\n",
       "Belgium                   25\n",
       "Switzerland               21\n",
       "Portugal                  19\n",
       "Italy                     14\n",
       "Finland                   12\n",
       "Austria                   11\n",
       "Norway                    10\n",
       "Netherlands                9\n",
       "Australia                  9\n",
       "Denmark                    9\n",
       "Channel Islands            9\n",
       "Cyprus                     8\n",
       "Sweden                     8\n",
       "Japan                      8\n",
       "Poland                     6\n",
       "USA                        4\n",
       "Canada                     4\n",
       "Unspecified                4\n",
       "Greece                     4\n",
       "EIRE                       3\n",
       "Israel                     3\n",
       "Malta                      2\n",
       "United Arab Emirates       2\n",
       "Bahrain                    2\n",
       "Czech Republic             1\n",
       "Lithuania                  1\n",
       "Lebanon                    1\n",
       "RSA                        1\n",
       "Saudi Arabia               1\n",
       "Singapore                  1\n",
       "Iceland                    1\n",
       "Brazil                     1\n",
       "European Community         1\n",
       "Name: CustomerID, dtype: int64"
      ]
     },
     "execution_count": 89,
     "metadata": {},
     "output_type": "execute_result"
    }
   ],
   "source": [
    "#number of customers per country\n",
    "customers_per_country = valid_orders.groupby(by = 'Country')['CustomerID'].nunique().sort_values(ascending = False)\n",
    "customers_per_country"
   ]
  },
  {
   "cell_type": "code",
   "execution_count": 90,
   "id": "29d7c1eb-ab01-4dac-bde5-61bd3d65757a",
   "metadata": {},
   "outputs": [
    {
     "data": {
      "image/png": "[encoded data removed]",
      "text/plain": [
       "<Figure size 1200x600 with 1 Axes>"
      ]
     },
     "metadata": {},
     "output_type": "display_data"
    }
   ],
   "source": [
    "plt.figure(figsize=(12,6))\n",
    "customers_per_country.head(10).plot(kind='bar', color='purple')\n",
    "plt.title('Top 10 Countries by Number of Customers')\n",
    "plt.ylabel('Number of Unique Customers')\n",
    "plt.xlabel('Country')\n",
    "plt.xticks(rotation=45)\n",
    "plt.grid(axis='y')\n",
    "plt.tight_layout()\n",
    "plt.show()"
   ]
  },
  {
   "cell_type": "markdown",
   "id": "9be46f80-83cf-4d0e-9748-b0f2fcd7b6b9",
   "metadata": {},
   "source": [
    "🔹 3.1: What Products Are Frequently Canceled?\n",
    "🧠 Objective\n",
    "We want to identify the products that are most frequently canceled. This can help the business understand if certain products are problematic, often out-of-stock, or likely to have customer complaints.\n",
    "\n"
   ]
  },
  {
   "cell_type": "code",
   "execution_count": 92,
   "id": "23a1a278-d190-4fca-8ec0-415588f8987b",
   "metadata": {},
   "outputs": [
    {
     "data": {
      "text/html": [
       "<div>\n",
       "<style scoped>\n",
       "    .dataframe tbody tr th:only-of-type {\n",
       "        vertical-align: middle;\n",
       "    }\n",
       "\n",
       "    .dataframe tbody tr th {\n",
       "        vertical-align: top;\n",
       "    }\n",
       "\n",
       "    .dataframe thead th {\n",
       "        text-align: right;\n",
       "    }\n",
       "</style>\n",
       "<table border=\"1\" class=\"dataframe\">\n",
       "  <thead>\n",
       "    <tr style=\"text-align: right;\">\n",
       "      <th></th>\n",
       "      <th>StockCode</th>\n",
       "      <th>Description</th>\n",
       "      <th>Quantity</th>\n",
       "      <th>InvoiceDate</th>\n",
       "      <th>UnitPrice</th>\n",
       "      <th>CustomerID</th>\n",
       "      <th>Country</th>\n",
       "      <th>Weekday</th>\n",
       "      <th>Invoice_Date</th>\n",
       "      <th>Invoice_Time</th>\n",
       "      <th>Revenue</th>\n",
       "    </tr>\n",
       "    <tr>\n",
       "      <th>InvoiceNo</th>\n",
       "      <th></th>\n",
       "      <th></th>\n",
       "      <th></th>\n",
       "      <th></th>\n",
       "      <th></th>\n",
       "      <th></th>\n",
       "      <th></th>\n",
       "      <th></th>\n",
       "      <th></th>\n",
       "      <th></th>\n",
       "      <th></th>\n",
       "    </tr>\n",
       "  </thead>\n",
       "  <tbody>\n",
       "    <tr>\n",
       "      <th>C536379</th>\n",
       "      <td>D</td>\n",
       "      <td>Discount</td>\n",
       "      <td>-1</td>\n",
       "      <td>2010-12-01 09:41:00</td>\n",
       "      <td>27.5</td>\n",
       "      <td>14527.0</td>\n",
       "      <td>United Kingdom</td>\n",
       "      <td>Wednesday</td>\n",
       "      <td>2010-12-01</td>\n",
       "      <td>09:41:00</td>\n",
       "      <td>-27.5</td>\n",
       "    </tr>\n",
       "  </tbody>\n",
       "</table>\n",
       "</div>"
      ],
      "text/plain": [
       "          StockCode Description  Quantity         InvoiceDate  UnitPrice  \\\n",
       "InvoiceNo                                                                  \n",
       "C536379           D    Discount        -1 2010-12-01 09:41:00       27.5   \n",
       "\n",
       "           CustomerID         Country    Weekday Invoice_Date Invoice_Time  \\\n",
       "InvoiceNo                                                                    \n",
       "C536379       14527.0  United Kingdom  Wednesday   2010-12-01     09:41:00   \n",
       "\n",
       "           Revenue  \n",
       "InvoiceNo           \n",
       "C536379      -27.5  "
      ]
     },
     "execution_count": 92,
     "metadata": {},
     "output_type": "execute_result"
    }
   ],
   "source": [
    "cancelled_orders.head(1)"
   ]
  },
  {
   "cell_type": "markdown",
   "id": "782d26da-f913-46b7-ad81-a0fad6e7fcf9",
   "metadata": {},
   "source": [
    "📉 3.3 Revenue Loss Due to Cancellations\n",
    "🧠 What are we trying to do?\n",
    "Cancellations indicate potential revenue that the business failed to capture. In this section, we aim to calculate the total revenue lost due to canceled orders. Each canceled product, represented by a negative quantity, contributes to this loss. Understanding which products contribute the most to revenue loss helps businesses identify and address common pain points—such as product quality, delivery issues, or customer dissatisfaction.\n",
    "\n",
    "🧪 How are we calculating it?\n",
    "We'll multiply the Quantity and UnitPrice for each canceled order to compute the revenue that was lost.\n",
    "\n",
    "Since canceled quantities are negative, we’ll take the absolute value of the sum.\n",
    "\n",
    "We'll also identify the top 10 products with the highest associated revenue loss."
   ]
  },
  {
   "cell_type": "code",
   "execution_count": 93,
   "id": "e5f8d736-bcf0-4dbb-9867-a1c9c06d8213",
   "metadata": {},
   "outputs": [],
   "source": [
    "#Top 10 Products with Highest Quantity Canceled\n",
    "cancelled_items = cancelled_orders.groupby(by = 'StockCode')['Quantity'].sum().abs().sort_values(ascending = False)"
   ]
  },
  {
   "cell_type": "code",
   "execution_count": 94,
   "id": "a72f2f37-8a2f-4b8f-9067-554059ebdbd8",
   "metadata": {},
   "outputs": [
    {
     "data": {
      "text/plain": [
       "<Axes: ylabel='StockCode'>"
      ]
     },
     "execution_count": 94,
     "metadata": {},
     "output_type": "execute_result"
    },
    {
     "data": {
      "image/png": "[encoded data removed]",
      "text/plain": [
       "<Figure size 640x480 with 1 Axes>"
      ]
     },
     "metadata": {},
     "output_type": "display_data"
    }
   ],
   "source": [
    "cancelled_items.head(10).plot(kind = 'barh')"
   ]
  },
  {
   "cell_type": "code",
   "execution_count": 95,
   "id": "fd13807e-f908-44ff-8acf-bc78bb47a783",
   "metadata": {},
   "outputs": [
    {
     "data": {
      "text/plain": [
       "Description\n",
       "REGENCY CAKESTAND 3 TIER              181\n",
       "Manual                                175\n",
       "POSTAGE                                97\n",
       "JAM MAKING SET WITH JARS               86\n",
       "Discount                               77\n",
       "SET OF 3 CAKE TINS PANTRY DESIGN       73\n",
       "STRAWBERRY CERAMIC TRINKET BOX         55\n",
       "ROSES REGENCY TEACUP AND SAUCER        53\n",
       "RECIPE BOX PANTRY YELLOW DESIGN        47\n",
       "WOOD 2 DRAWER CABINET WHITE FINISH     45\n",
       "Name: count, dtype: int64"
      ]
     },
     "execution_count": 95,
     "metadata": {},
     "output_type": "execute_result"
    }
   ],
   "source": [
    "# Most frequently cancelled items\n",
    "frequent_cancelled_items = cancelled_orders['Description'].value_counts().head(10)\n",
    "frequent_cancelled_items"
   ]
  },
  {
   "cell_type": "code",
   "execution_count": 96,
   "id": "15252777-2412-4b33-84a7-9e8c937718b0",
   "metadata": {},
   "outputs": [
    {
     "data": {
      "image/png": "[encoded data removed]",
      "text/plain": [
       "<Figure size 640x480 with 1 Axes>"
      ]
     },
     "metadata": {},
     "output_type": "display_data"
    }
   ],
   "source": [
    "frequent_cancelled_items.plot(kind = 'barh')\n",
    "plt.title('Top 10 Most Frequently Canceled Products')\n",
    "plt.xlabel('Number of Cancellations')\n",
    "plt.ylabel('Product Description')\n",
    "plt.grid(True, axis='x')\n",
    "plt.tight_layout()\n",
    "plt.show()"
   ]
  },
  {
   "cell_type": "code",
   "execution_count": 97,
   "id": "f7ca5c44-cccc-4316-828b-5599f82a9811",
   "metadata": {},
   "outputs": [
    {
     "name": "stdout",
     "output_type": "stream",
     "text": [
      "Total Revenue Lost Due to Cancellations: £611,342.09\n"
     ]
    }
   ],
   "source": [
    "total_revenue_loss = abs(cancelled_orders['Revenue'].sum())\n",
    "print(f\"Total Revenue Lost Due to Cancellations: £{total_revenue_loss:,.2f}\")"
   ]
  },
  {
   "cell_type": "code",
   "execution_count": 98,
   "id": "bc3e3f1a-dab7-47b3-9232-b54ca4717859",
   "metadata": {},
   "outputs": [
    {
     "name": "stdout",
     "output_type": "stream",
     "text": [
      "Snapshot Date: 2011-12-10\n"
     ]
    }
   ],
   "source": [
    "snapshot_date = valid_orders['Invoice_Date'].max() + pd.Timedelta(days=1)\n",
    "print(\"Snapshot Date:\", snapshot_date)"
   ]
  },
  {
   "cell_type": "code",
   "execution_count": 99,
   "id": "cd8f7c73-6862-4cdb-ba7d-1ec215d68a24",
   "metadata": {},
   "outputs": [
    {
     "data": {
      "text/html": [
       "<div>\n",
       "<style scoped>\n",
       "    .dataframe tbody tr th:only-of-type {\n",
       "        vertical-align: middle;\n",
       "    }\n",
       "\n",
       "    .dataframe tbody tr th {\n",
       "        vertical-align: top;\n",
       "    }\n",
       "\n",
       "    .dataframe thead th {\n",
       "        text-align: right;\n",
       "    }\n",
       "</style>\n",
       "<table border=\"1\" class=\"dataframe\">\n",
       "  <thead>\n",
       "    <tr style=\"text-align: right;\">\n",
       "      <th></th>\n",
       "      <th>CustomerID</th>\n",
       "      <th>Recency</th>\n",
       "      <th>Frequency</th>\n",
       "      <th>Monetary</th>\n",
       "    </tr>\n",
       "  </thead>\n",
       "  <tbody>\n",
       "    <tr>\n",
       "      <th>0</th>\n",
       "      <td>12346.0</td>\n",
       "      <td>326</td>\n",
       "      <td>1</td>\n",
       "      <td>77183.60</td>\n",
       "    </tr>\n",
       "    <tr>\n",
       "      <th>1</th>\n",
       "      <td>12347.0</td>\n",
       "      <td>3</td>\n",
       "      <td>7</td>\n",
       "      <td>4310.00</td>\n",
       "    </tr>\n",
       "    <tr>\n",
       "      <th>2</th>\n",
       "      <td>12348.0</td>\n",
       "      <td>76</td>\n",
       "      <td>4</td>\n",
       "      <td>1797.24</td>\n",
       "    </tr>\n",
       "    <tr>\n",
       "      <th>3</th>\n",
       "      <td>12349.0</td>\n",
       "      <td>19</td>\n",
       "      <td>1</td>\n",
       "      <td>1757.55</td>\n",
       "    </tr>\n",
       "    <tr>\n",
       "      <th>4</th>\n",
       "      <td>12350.0</td>\n",
       "      <td>311</td>\n",
       "      <td>1</td>\n",
       "      <td>334.40</td>\n",
       "    </tr>\n",
       "  </tbody>\n",
       "</table>\n",
       "</div>"
      ],
      "text/plain": [
       "   CustomerID  Recency  Frequency  Monetary\n",
       "0     12346.0      326          1  77183.60\n",
       "1     12347.0        3          7   4310.00\n",
       "2     12348.0       76          4   1797.24\n",
       "3     12349.0       19          1   1757.55\n",
       "4     12350.0      311          1    334.40"
      ]
     },
     "execution_count": 99,
     "metadata": {},
     "output_type": "execute_result"
    }
   ],
   "source": [
    "rfm = valid_orders_reset.groupby('CustomerID').agg({\n",
    "    'Invoice_Date': lambda x: (snapshot_date - x.max()).days,  # Recency\n",
    "    'InvoiceNo': 'nunique',                                     # Frequency\n",
    "    'Revenue': 'sum'                                         # Monetary\n",
    "}).reset_index()\n",
    "rfm.columns = ['CustomerID', 'Recency', 'Frequency', 'Monetary']\n",
    "rfm.head()"
   ]
  },
  {
   "cell_type": "code",
   "execution_count": 100,
   "id": "131574fa-9a0d-4df4-b7ce-07ff0badf380",
   "metadata": {},
   "outputs": [
    {
     "data": {
      "text/html": [
       "<div>\n",
       "<style scoped>\n",
       "    .dataframe tbody tr th:only-of-type {\n",
       "        vertical-align: middle;\n",
       "    }\n",
       "\n",
       "    .dataframe tbody tr th {\n",
       "        vertical-align: top;\n",
       "    }\n",
       "\n",
       "    .dataframe thead th {\n",
       "        text-align: right;\n",
       "    }\n",
       "</style>\n",
       "<table border=\"1\" class=\"dataframe\">\n",
       "  <thead>\n",
       "    <tr style=\"text-align: right;\">\n",
       "      <th></th>\n",
       "      <th>CustomerID</th>\n",
       "      <th>Recency</th>\n",
       "      <th>Frequency</th>\n",
       "      <th>Monetary</th>\n",
       "      <th>R_Score</th>\n",
       "      <th>F_Score</th>\n",
       "      <th>M_Score</th>\n",
       "      <th>RFM_Score</th>\n",
       "    </tr>\n",
       "  </thead>\n",
       "  <tbody>\n",
       "    <tr>\n",
       "      <th>0</th>\n",
       "      <td>12346.0</td>\n",
       "      <td>326</td>\n",
       "      <td>1</td>\n",
       "      <td>77183.60</td>\n",
       "      <td>1</td>\n",
       "      <td>1</td>\n",
       "      <td>4</td>\n",
       "      <td>114</td>\n",
       "    </tr>\n",
       "    <tr>\n",
       "      <th>1</th>\n",
       "      <td>12347.0</td>\n",
       "      <td>3</td>\n",
       "      <td>7</td>\n",
       "      <td>4310.00</td>\n",
       "      <td>4</td>\n",
       "      <td>4</td>\n",
       "      <td>4</td>\n",
       "      <td>444</td>\n",
       "    </tr>\n",
       "    <tr>\n",
       "      <th>2</th>\n",
       "      <td>12348.0</td>\n",
       "      <td>76</td>\n",
       "      <td>4</td>\n",
       "      <td>1797.24</td>\n",
       "      <td>2</td>\n",
       "      <td>3</td>\n",
       "      <td>4</td>\n",
       "      <td>234</td>\n",
       "    </tr>\n",
       "    <tr>\n",
       "      <th>3</th>\n",
       "      <td>12349.0</td>\n",
       "      <td>19</td>\n",
       "      <td>1</td>\n",
       "      <td>1757.55</td>\n",
       "      <td>3</td>\n",
       "      <td>1</td>\n",
       "      <td>4</td>\n",
       "      <td>314</td>\n",
       "    </tr>\n",
       "    <tr>\n",
       "      <th>4</th>\n",
       "      <td>12350.0</td>\n",
       "      <td>311</td>\n",
       "      <td>1</td>\n",
       "      <td>334.40</td>\n",
       "      <td>1</td>\n",
       "      <td>1</td>\n",
       "      <td>2</td>\n",
       "      <td>112</td>\n",
       "    </tr>\n",
       "  </tbody>\n",
       "</table>\n",
       "</div>"
      ],
      "text/plain": [
       "   CustomerID  Recency  Frequency  Monetary  R_Score  F_Score  M_Score  \\\n",
       "0     12346.0      326          1  77183.60        1        1        4   \n",
       "1     12347.0        3          7   4310.00        4        4        4   \n",
       "2     12348.0       76          4   1797.24        2        3        4   \n",
       "3     12349.0       19          1   1757.55        3        1        4   \n",
       "4     12350.0      311          1    334.40        1        1        2   \n",
       "\n",
       "  RFM_Score  \n",
       "0       114  \n",
       "1       444  \n",
       "2       234  \n",
       "3       314  \n",
       "4       112  "
      ]
     },
     "execution_count": 100,
     "metadata": {},
     "output_type": "execute_result"
    }
   ],
   "source": [
    "# Assign quartile scores (1 = best, 4 = worst)\n",
    "rfm['R_Score'] = pd.qcut(rfm['Recency'], 4, labels=[4, 3, 2, 1]).astype(int)\n",
    "rfm['F_Score'] = pd.qcut(rfm['Frequency'].rank(method='first'), 4, labels=[1, 2, 3, 4]).astype(int)\n",
    "rfm['M_Score'] = pd.qcut(rfm['Monetary'], 4, labels=[1, 2, 3, 4]).astype(int)\n",
    "\n",
    "# Combine into a single RFM score\n",
    "rfm['RFM_Score'] = rfm['R_Score'].astype(str) + rfm['F_Score'].astype(str) + rfm['M_Score'].astype(str)\n",
    "rfm.head()\n"
   ]
  },
  {
   "cell_type": "code",
   "execution_count": 101,
   "id": "be80f514-6495-4f47-8cfa-508793ba35e6",
   "metadata": {},
   "outputs": [
    {
     "data": {
      "image/png": "[encoded data removed]",
      "text/plain": [
       "<Figure size 640x480 with 1 Axes>"
      ]
     },
     "metadata": {},
     "output_type": "display_data"
    },
    {
     "data": {
      "image/png": "[encoded data removed]",
      "text/plain": [
       "<Figure size 1200x500 with 1 Axes>"
      ]
     },
     "metadata": {},
     "output_type": "display_data"
    }
   ],
   "source": [
    "rfm.plot()\n",
    "plt.figure(figsize=(12,5))\n",
    "plt.title('Distribution of Customer Recency')\n",
    "plt.xlabel('Days Since Last Purchase')\n",
    "plt.grid(True)\n",
    "plt.show()\n"
   ]
  },
  {
   "cell_type": "markdown",
   "id": "bff0d2f7-3f7d-4a6f-8670-47a96b9c5a1a",
   "metadata": {},
   "source": [
    "### 📈 Phase 4.2: Customer Retention Patterns\n",
    "\n",
    "**What are we doing?**  \n",
    "We're analyzing how many months each customer was active to understand repeat behavior. This can tell us whether our business relies on loyal customers or one-time buyers.\n",
    "\n",
    "**Steps Taken:**\n",
    "- Extracted month from each invoice date.\n",
    "- Tracked which customers placed orders in which months.\n",
    "- Counted the number of distinct months each customer was active.\n"
   ]
  },
  {
   "cell_type": "code",
   "execution_count": 103,
   "id": "acbfde09-24fc-46cb-bc1d-ab51d2cafdec",
   "metadata": {},
   "outputs": [
    {
     "data": {
      "text/html": [
       "<div>\n",
       "<style scoped>\n",
       "    .dataframe tbody tr th:only-of-type {\n",
       "        vertical-align: middle;\n",
       "    }\n",
       "\n",
       "    .dataframe tbody tr th {\n",
       "        vertical-align: top;\n",
       "    }\n",
       "\n",
       "    .dataframe thead th {\n",
       "        text-align: right;\n",
       "    }\n",
       "</style>\n",
       "<table border=\"1\" class=\"dataframe\">\n",
       "  <thead>\n",
       "    <tr style=\"text-align: right;\">\n",
       "      <th></th>\n",
       "      <th>StockCode</th>\n",
       "      <th>Description</th>\n",
       "      <th>Quantity</th>\n",
       "      <th>InvoiceDate</th>\n",
       "      <th>UnitPrice</th>\n",
       "      <th>CustomerID</th>\n",
       "      <th>Country</th>\n",
       "      <th>Weekday</th>\n",
       "      <th>Invoice_Date</th>\n",
       "      <th>Invoice_Time</th>\n",
       "      <th>Revenue</th>\n",
       "      <th>Month</th>\n",
       "    </tr>\n",
       "    <tr>\n",
       "      <th>InvoiceNo</th>\n",
       "      <th></th>\n",
       "      <th></th>\n",
       "      <th></th>\n",
       "      <th></th>\n",
       "      <th></th>\n",
       "      <th></th>\n",
       "      <th></th>\n",
       "      <th></th>\n",
       "      <th></th>\n",
       "      <th></th>\n",
       "      <th></th>\n",
       "      <th></th>\n",
       "    </tr>\n",
       "  </thead>\n",
       "  <tbody>\n",
       "    <tr>\n",
       "      <th>536365</th>\n",
       "      <td>85123A</td>\n",
       "      <td>WHITE HANGING HEART T-LIGHT HOLDER</td>\n",
       "      <td>6</td>\n",
       "      <td>2010-12-01 08:26:00</td>\n",
       "      <td>2.55</td>\n",
       "      <td>17850.0</td>\n",
       "      <td>United Kingdom</td>\n",
       "      <td>Wednesday</td>\n",
       "      <td>2010-12-01</td>\n",
       "      <td>08:26:00</td>\n",
       "      <td>15.3</td>\n",
       "      <td>12</td>\n",
       "    </tr>\n",
       "  </tbody>\n",
       "</table>\n",
       "</div>"
      ],
      "text/plain": [
       "          StockCode                         Description  Quantity  \\\n",
       "InvoiceNo                                                           \n",
       "536365       85123A  WHITE HANGING HEART T-LIGHT HOLDER         6   \n",
       "\n",
       "                  InvoiceDate  UnitPrice  CustomerID         Country  \\\n",
       "InvoiceNo                                                              \n",
       "536365    2010-12-01 08:26:00       2.55     17850.0  United Kingdom   \n",
       "\n",
       "             Weekday Invoice_Date Invoice_Time  Revenue  Month  \n",
       "InvoiceNo                                                       \n",
       "536365     Wednesday   2010-12-01     08:26:00     15.3     12  "
      ]
     },
     "execution_count": 103,
     "metadata": {},
     "output_type": "execute_result"
    }
   ],
   "source": [
    "data.head(1)"
   ]
  },
  {
   "cell_type": "code",
   "execution_count": 109,
   "id": "646a146c-2c4b-462d-ae17-87d84e6d10b9",
   "metadata": {},
   "outputs": [
    {
     "data": {
      "text/plain": [
       "CustomerID\n",
       "13854    12\n",
       "16422    12\n",
       "15769    12\n",
       "17757    12\n",
       "15189    12\n",
       "         ..\n",
       "14349     1\n",
       "16499     1\n",
       "14350     1\n",
       "14351     1\n",
       "12346     1\n",
       "Name: Month, Length: 4372, dtype: int64"
      ]
     },
     "execution_count": 109,
     "metadata": {},
     "output_type": "execute_result"
    }
   ],
   "source": [
    "activity_for_user = data.groupby(by = 'CustomerID')['Month'].nunique().sort_values(ascending = False)\n",
    "activity_for_user"
   ]
  },
  {
   "cell_type": "code",
   "execution_count": 112,
   "id": "cedf9516-dab4-4277-a9b1-3ad09d5dc8ae",
   "metadata": {},
   "outputs": [],
   "source": [
    "# Count how many customers were active in how many months\n",
    "retention_counts = activity_for_user.value_counts().sort_index()"
   ]
  },
  {
   "cell_type": "code",
   "execution_count": 113,
   "id": "9342b751-62d0-4000-b2cd-537a6a0f2e9c",
   "metadata": {},
   "outputs": [
    {
     "data": {
      "image/png": "[encoded data removed]",
      "text/plain": [
       "<Figure size 1000x600 with 1 Axes>"
      ]
     },
     "metadata": {},
     "output_type": "display_data"
    }
   ],
   "source": [
    "# Plot\n",
    "plt.figure(figsize=(10,6))\n",
    "plt.bar(retention_counts.index, retention_counts.values, color='skyblue', edgecolor='black')\n",
    "plt.title('Customer Retention: Number of Active Months per Customer')\n",
    "plt.xlabel('Number of Months Active')\n",
    "plt.ylabel('Number of Customers')\n",
    "plt.xticks(retention_counts.index)\n",
    "plt.grid(axis='y', linestyle='--', alpha=0.7)\n",
    "plt.tight_layout()\n",
    "plt.show()\n"
   ]
  },
  {
   "cell_type": "code",
   "execution_count": 119,
   "id": "bad11453-ca26-4ea9-bb25-de2697506d1b",
   "metadata": {},
   "outputs": [],
   "source": [
    "valid_orders.to_csv('Desktop/valid_orders.csv' , index=True) "
   ]
  },
  {
   "cell_type": "code",
   "execution_count": 120,
   "id": "97b95fb5-b76f-4010-bbe8-246ea90cc938",
   "metadata": {},
   "outputs": [],
   "source": [
    "cancelled_orders.to_csv('Desktop/cancelled_orders.csv' , index=True) "
   ]
  },
  {
   "cell_type": "code",
   "execution_count": null,
   "id": "6c621ed0-9863-4b4c-9ae1-24dc6badea9f",
   "metadata": {},
   "outputs": [],
   "source": []
  }
 ],
 "metadata": {
  "kernelspec": {
   "display_name": "Python 3 (ipykernel)",
   "language": "python",
   "name": "python3"
  },
  "language_info": {
   "codemirror_mode": {
    "name": "ipython",
    "version": 3
   },
   "file_extension": ".py",
   "mimetype": "text/x-python",
   "name": "python",
   "nbconvert_exporter": "python",
   "pygments_lexer": "ipython3",
   "version": "3.13.4"
  }
 },
 "nbformat": 4,
 "nbformat_minor": 5
}
